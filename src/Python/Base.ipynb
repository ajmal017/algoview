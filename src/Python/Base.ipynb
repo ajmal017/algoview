{
 "cells": [
  {
   "cell_type": "code",
   "execution_count": 34,
   "metadata": {},
   "outputs": [],
   "source": [
    "from ibapi.wrapper import EWrapper\n",
    "from ibapi.client import EClient\n",
    "from ibapi.contract import Contract as IBcontract\n",
    "from ibapi.order import Order\n",
    "from ibapi.execution import ExecutionFilter\n",
    "from threading import Thread\n",
    "from importlib import reload as rel\n",
    "import numpy as np, pandas as pd, datetime as dt, time\n",
    "import queue, tools, collections\n",
    "import HistMktData as hmd, LiveMktData as lmd, OrderPlacement as op, AccountPositions as ap"
   ]
  },
  {
   "cell_type": "markdown",
   "metadata": {},
   "source": [
    "#### Simulated inputs (from extension)"
   ]
  },
  {
   "cell_type": "code",
   "execution_count": 35,
   "metadata": {},
   "outputs": [],
   "source": [
    "underlying = 'IBKR'\n",
    "msg = 'n=entryL1 d=long t=m p=0 q=1'"
   ]
  },
  {
   "cell_type": "markdown",
   "metadata": {},
   "source": [
    "#### Historical Market Data"
   ]
  },
  {
   "cell_type": "code",
   "execution_count": 33,
   "metadata": {},
   "outputs": [
    {
     "name": "stdout",
     "output_type": "stream",
     "text": [
      "Getting full contract details from the server... \n",
      "IB error id -1 errorcode 2104 string Market data farm connection is OK:cashfarm\n",
      "Getting historical data from the server... could take up to 8 seconds to complete \n",
      "IB error id -1 errorcode 2106 string HMDS data farm connection is OK:ushmds\n",
      "IB error id -1 errorcode 2106 string HMDS data farm connection is OK:ushmds.us\n",
      "IB error id 50 errorcode 162 string Historical Market Data Service error message:No market data permissions for ISLAND STK\n",
      "Exceeded maximum wait for wrapper to confirm finished - seems to be normal behaviour\n"
     ]
    }
   ],
   "source": [
    "app = hmd.TestApp(\"127.0.0.1\", 7497, 1) # Connection\n",
    "ibcontract, minTick = tools.make_contract(app, underlying)\n",
    "hist_mkt_data = tools.get_hist_data(app, ibcontract, durationStr='2 D', barSizeSetting='1 hour')\n",
    "app.disconnect() # Disconnection"
   ]
  },
  {
   "cell_type": "markdown",
   "metadata": {},
   "source": [
    "#### Live Market Data"
   ]
  },
  {
   "cell_type": "code",
   "execution_count": 14,
   "metadata": {},
   "outputs": [],
   "source": [
    "app = lmd.TestApp(\"127.0.0.1\", 7497, 2) # Connection"
   ]
  },
  {
   "cell_type": "code",
   "execution_count": 13,
   "metadata": {},
   "outputs": [],
   "source": [
    "app.disconnect()"
   ]
  },
  {
   "cell_type": "code",
   "execution_count": 15,
   "metadata": {},
   "outputs": [
    {
     "name": "stdout",
     "output_type": "stream",
     "text": [
      "Getting full contract details from the server... \n",
      "IB error id -1 errorcode 2104 string Market data farm connection is OK:cashfarm\n",
      "                            bid_size  bid_price  ask_size  ask_price  \\\n",
      "2019-01-03 14:47:39.324138       NaN    1.13639       NaN        NaN   \n",
      "\n",
      "                            last_trade_size  last_trade_price  \n",
      "2019-01-03 14:47:39.324138              NaN               NaN  \n"
     ]
    }
   ],
   "source": [
    "ibcontract, minTick = tools.make_contract(app, underlying)\n",
    "tickerid = app.start_getting_IB_market_data(ibcontract)\n",
    "\n",
    "time.sleep(30)\n",
    "\n",
    "## What have we got so far?\n",
    "market_data1 = app.get_IB_market_data(tickerid)\n",
    "\n",
    "print(market_data1[0])"
   ]
  },
  {
   "cell_type": "code",
   "execution_count": null,
   "metadata": {},
   "outputs": [],
   "source": [
    "tickerid = app.start_getting_IB_market_data(ibcontract)\n",
    "\n",
    "time.sleep(30)\n",
    "\n",
    "## What have we got so far?\n",
    "market_data1 = app.get_IB_market_data(tickerid)\n",
    "\n",
    "print(market_data1[0])\n",
    "\n",
    "market_data1_as_df = market_data1.as_pdDataFrame()\n",
    "print(market_data1_as_df)\n",
    "\n",
    "time.sleep(30)\n",
    "\n",
    "## stops the stream and returns all the data we've got so far\n",
    "market_data2 = app.stop_getting_IB_market_data(tickerid)\n",
    "\n",
    "## glue the data together\n",
    "market_data2_as_df = market_data2.as_pdDataFrame()\n",
    "all_market_data_as_df = pd.concat([market_data1_as_df, market_data2_as_df])\n",
    "\n",
    "## show some quotes\n",
    "some_quotes = all_market_data_as_df.resample(\"1S\").last()[[\"bid_size\", \"bid_price\", \"ask_price\", \"ask_size\"]]\n",
    "print(some_quotes.head(10))\n",
    "\n",
    "## show some trades\n",
    "some_trades = all_market_data_as_df.resample(\"10L\").last()[[\"last_trade_price\", \"last_trade_size\"]]\n",
    "print(some_trades.head(10))\n",
    "\n",
    "app.disconnect()"
   ]
  },
  {
   "cell_type": "markdown",
   "metadata": {},
   "source": [
    "#### Order Placement"
   ]
  },
  {
   "cell_type": "code",
   "execution_count": 29,
   "metadata": {},
   "outputs": [
    {
     "name": "stdout",
     "output_type": "stream",
     "text": [
      "Getting full contract details from the server... \n",
      "IB error id -1 errorcode 2104 string Market data farm connection is OK:cashfarm\n",
      "12087792,EUR,CASH,,0.0,,,IDEALPRO,,USD,EUR.USD,EUR.USD,False,,combo:\n",
      "0,0,0: MKT BUY 1@179769313486231570814527423731704356798070567525844996598917476803157260780028538760589558632766878171540458953514382464234321326889464182768467546703537516986049910576551282076245490090389328944075868508455133942304583236903222948165808559332123348274797826204144723168738177180919299881250404026184124858368.000000 \n",
      "Getting orderid from IB\n",
      "Using order id of 1\n",
      "Placed market order, orderid is 1\n"
     ]
    }
   ],
   "source": [
    "app = op.TestApp(\"127.0.0.1\", 7497, 3) # Connection\n",
    "ibcontract, order1 = tools.parse_message(app, underlying, msg)\n",
    "orderid1 = app.place_new_IB_order(ibcontract, order1, orderid=None)\n",
    "print(\"Placed market order, orderid is %d\" % orderid1)\n",
    "app.disconnect() # Disconnection"
   ]
  },
  {
   "cell_type": "markdown",
   "metadata": {},
   "source": [
    "#### Account Positions"
   ]
  },
  {
   "cell_type": "code",
   "execution_count": null,
   "metadata": {},
   "outputs": [],
   "source": [
    "app = ap.TestApp(\"127.0.0.1\", 7497, 4)\n",
    "\n",
    "## lets get positions\n",
    "positions_list = app.get_current_positions()\n",
    "print(positions_list)\n",
    "\n",
    "## get the account name from the position\n",
    "## normally you would know your account name\n",
    "accountName = positions_list[0][0] #'DU486001'\n",
    "\n",
    "## and accounting information\n",
    "accounting_values = app.get_accounting_values(accountName)\n",
    "print(accounting_values)\n",
    "\n",
    "## these values are cached\n",
    "## if we ask again in more than 5 minutes it will update everything\n",
    "accounting_updates = app.get_accounting_updates(accountName)\n",
    "print(accounting_updates)\n",
    "\n",
    "app.disconnect()"
   ]
  },
  {
   "cell_type": "code",
   "execution_count": null,
   "metadata": {},
   "outputs": [],
   "source": []
  }
 ],
 "metadata": {
  "kernelspec": {
   "display_name": "Python 3",
   "language": "python",
   "name": "python3"
  },
  "language_info": {
   "codemirror_mode": {
    "name": "ipython",
    "version": 3
   },
   "file_extension": ".py",
   "mimetype": "text/x-python",
   "name": "python",
   "nbconvert_exporter": "python",
   "pygments_lexer": "ipython3",
   "version": "3.7.1"
  }
 },
 "nbformat": 4,
 "nbformat_minor": 2
}
