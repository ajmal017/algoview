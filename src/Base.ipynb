{
 "cells": [
  {
   "cell_type": "code",
   "execution_count": 1,
   "metadata": {},
   "outputs": [],
   "source": [
    "from ibapi.wrapper import EWrapper\n",
    "from ibapi.client import EClient\n",
    "from ibapi.contract import Contract as IBcontract\n",
    "from ibapi.order import Order\n",
    "from ibapi.execution import ExecutionFilter\n",
    "from threading import Thread\n",
    "from importlib import reload as rel\n",
    "import numpy as np, pandas as pd, datetime as dt, time\n",
    "import queue, tools, collections\n",
    "import HistMktData as hmd, OrderPlacement as op"
   ]
  },
  {
   "cell_type": "markdown",
   "metadata": {},
   "source": [
    "#### Preprocessing of inputs (from TV)"
   ]
  },
  {
   "cell_type": "code",
   "execution_count": 2,
   "metadata": {},
   "outputs": [],
   "source": [
    "underlying = 'EURUSD'\n",
    "msg = 'n=entryL1 d=long t=l p=0 q=1'"
   ]
  },
  {
   "cell_type": "code",
   "execution_count": 3,
   "metadata": {},
   "outputs": [
    {
     "name": "stdout",
     "output_type": "stream",
     "text": [
      "Getting full contract details from the server... \n",
      "IB error id -1 errorcode 2107 string HMDS data farm connection is inactive but should be available upon demand.cashhmds\n",
      "12087792,EUR,CASH,,0.0,,,IDEALPRO,,USD,EUR.USD,EUR.USD,False,,combo:\n",
      "0,0,0: LMT BUY 1@1.140000 DAY\n"
     ]
    }
   ],
   "source": [
    "app = op.TestApp(\"127.0.0.1\", 7497, 1) # Connection\n",
    "ibcontract, order1 = tools.parse_message(app, underlying, msg)\n",
    "app.disconnect() # Disconnection"
   ]
  },
  {
   "cell_type": "markdown",
   "metadata": {},
   "source": [
    "#### Historical Market Data"
   ]
  },
  {
   "cell_type": "code",
   "execution_count": 7,
   "metadata": {},
   "outputs": [
    {
     "name": "stdout",
     "output_type": "stream",
     "text": [
      "Getting full contract details from the server... \n",
      "IB error id -1 errorcode 2106 string HMDS data farm connection is OK:cashhmds\n",
      "Getting full contract details from the server... \n",
      "Getting historical data from the server... could take up to 8 seconds to complete \n"
     ]
    }
   ],
   "source": [
    "app = hmd.TestApp(\"127.0.0.1\", 7497, 1) # Connection\n",
    "ibcontract = tools.make_contract(app, underlying)\n",
    "hist_mkt_data = tools.get_hist_data(app, ibcontract, durationStr='2 D', barSizeSetting='1 hour')\n",
    "app.disconnect() # Disconnection"
   ]
  },
  {
   "cell_type": "code",
   "execution_count": 11,
   "metadata": {},
   "outputs": [
    {
     "data": {
      "text/plain": [
       "[('20181227  22:15:00', 1.14318, 1.143265, 1.142775, 1.142995, -1),\n",
       " ('20181227  23:00:00', 1.142995, 1.14346, 1.14288, 1.143045, -1),\n",
       " ('20181228  00:00:00', 1.143045, 1.144785, 1.143015, 1.14457, -1),\n",
       " ('20181228  01:00:00', 1.14457, 1.144885, 1.144145, 1.14481, -1),\n",
       " ('20181228  02:00:00', 1.14481, 1.146305, 1.144685, 1.146175, -1),\n",
       " ('20181228  03:00:00', 1.146175, 1.146705, 1.145605, 1.145605, -1),\n",
       " ('20181228  04:00:00', 1.145605, 1.146015, 1.145055, 1.14514, -1),\n",
       " ('20181228  05:00:00', 1.14514, 1.145895, 1.145135, 1.145465, -1),\n",
       " ('20181228  06:00:00', 1.145465, 1.146375, 1.14534, 1.14597, -1),\n",
       " ('20181228  07:00:00', 1.14597, 1.146205, 1.144855, 1.145515, -1),\n",
       " ('20181228  08:00:00', 1.145515, 1.146735, 1.14511, 1.14574, -1),\n",
       " ('20181228  09:00:00', 1.14574, 1.145875, 1.143105, 1.144295, -1),\n",
       " ('20181228  10:00:00', 1.144295, 1.14704, 1.14382, 1.14651, -1),\n",
       " ('20181228  11:00:00', 1.14651, 1.147285, 1.146055, 1.14662, -1),\n",
       " ('20181228  12:00:00', 1.14662, 1.147045, 1.14475, 1.14515, -1),\n",
       " ('20181228  13:00:00', 1.14515, 1.146125, 1.14394, 1.146115, -1),\n",
       " ('20181228  14:00:00', 1.146115, 1.146905, 1.144395, 1.145425, -1),\n",
       " ('20181228  15:00:00', 1.145425, 1.1457, 1.143305, 1.143705, -1),\n",
       " ('20181228  16:00:00', 1.143705, 1.14488, 1.14304, 1.14436, -1),\n",
       " ('20181228  17:00:00', 1.14436, 1.144875, 1.14313, 1.14405, -1),\n",
       " ('20181228  18:00:00', 1.14405, 1.144875, 1.14342, 1.143835, -1),\n",
       " ('20181228  19:00:00', 1.143835, 1.144575, 1.14342, 1.14415, -1),\n",
       " ('20181228  20:00:00', 1.14415, 1.145405, 1.144115, 1.14421, -1),\n",
       " ('20181228  21:00:00', 1.14421, 1.145105, 1.14402, 1.14428, -1),\n",
       " ('20181230  22:15:00', 1.143825, 1.144025, 1.14371, 1.143985, -1),\n",
       " ('20181230  23:00:00', 1.143985, 1.14409, 1.143815, 1.143925, -1),\n",
       " ('20181231  00:00:00', 1.143925, 1.144675, 1.143835, 1.1446, -1)]"
      ]
     },
     "execution_count": 11,
     "metadata": {},
     "output_type": "execute_result"
    }
   ],
   "source": [
    "hist_mkt_data"
   ]
  },
  {
   "cell_type": "markdown",
   "metadata": {},
   "source": [
    "#### Order Placement"
   ]
  },
  {
   "cell_type": "code",
   "execution_count": null,
   "metadata": {},
   "outputs": [],
   "source": [
    "app = op.TestApp(\"127.0.0.1\", 7497, 1)\n",
    "\n",
    "## resolve the contract\n",
    "resolved_ibcontract = app.resolve_ib_contract(ibcontract)\n",
    "\n",
    "order1 = Order()\n",
    "order1.action = \"BUY\"\n",
    "order1.orderType = \"MKT\"\n",
    "order1.totalQuantity = 25000\n",
    "order1.transmit = True\n",
    "\n",
    "orderid1 = app.place_new_IB_order(resolved_ibcontract, order1, orderid=None)\n",
    "\n",
    "print(\"Placed market order, orderid is %d\" % orderid1)\n",
    "\n",
    "while app.any_open_orders():\n",
    "    ## Warning: this will pause forever if fill doesn't come back\n",
    "    time.sleep(1)\n",
    "\n",
    "## Have a look at the fill\n",
    "print(\"Recent fills\")\n",
    "filldetails = app.recent_fills_and_commissions()\n",
    "print(filldetails)\n",
    "\n",
    "## when I call again should be empty as we've cleared the memory of recent fills\n",
    "print(\"Recent fills (should be blank)\")\n",
    "morefilldetails = app.recent_fills_and_commissions()\n",
    "print(morefilldetails)\n",
    "\n",
    "## but this won't be\n",
    "print(\"Executions today\")\n",
    "execdetails = app.get_executions_and_commissions()\n",
    "print(execdetails)\n",
    "\n",
    "## And here is a limit order, unlikely ever to be filled\n",
    "## Note sell limit price of 2.00\n",
    "\n",
    "order2 = Order()\n",
    "order2.action = \"SELL\"\n",
    "order2.orderType = \"LMT\"\n",
    "order2.totalQuantity = 30000\n",
    "order2.lmtPrice = 2.00\n",
    "order2.tif = 'DAY'\n",
    "order2.transmit = True\n",
    "\n",
    "\n",
    "orderid2 = app.place_new_IB_order(resolved_ibcontract, order2, orderid=None)\n",
    "print(\"Placed limit order, orderid is %d\" % orderid2)\n",
    "\n",
    "## Short wait ...\n",
    "time.sleep(5)\n",
    "\n",
    "print(\"Open orders (should be one)\")\n",
    "open_orders = app.get_open_orders()\n",
    "print(open_orders)\n",
    "\n",
    "## put in another limit order\n",
    "order3 = Order()\n",
    "order3.action = \"BUY\"\n",
    "order3.orderType = \"LMT\"\n",
    "order3.totalQuantity = 35000\n",
    "order3.lmtPrice = 1.00\n",
    "order3.tif = 'DAY'\n",
    "order3.transmit = True\n",
    "\n",
    "orderid3 = app.place_new_IB_order(resolved_ibcontract, order3, orderid=None)\n",
    "print(\"Placed limit order, orderid is %d\" % orderid3)\n",
    "\n",
    "print(\"Open orders (should be two)\")\n",
    "open_orders = app.get_open_orders()\n",
    "print(open_orders.keys())\n",
    "\n",
    "time.sleep(5)\n",
    "\n",
    "## modify the order\n",
    "\n",
    "print(\"Modifying order %d\" % orderid3)\n",
    "\n",
    "order3.lmtPrice = 1.05\n",
    "\n",
    "print(\"Limit price was %f will become %f\" % (open_orders[orderid3].order.lmtPrice, order3.lmtPrice ))\n",
    "\n",
    "app.place_new_IB_order(resolved_ibcontract, order3, orderid=orderid3)\n",
    "time.sleep(5)\n",
    "open_orders = app.get_open_orders()\n",
    "print(\"New limit price %f \" % open_orders[orderid3].order.lmtPrice)\n",
    "\n",
    "## Cancel a single limit order, leaving one active limit order (order3)\n",
    "print(\"Cancel order %d \" % orderid2)\n",
    "app.cancel_order(orderid2)\n",
    "open_orders = app.get_open_orders()\n",
    "\n",
    "print(\"Open orders (should just be %d)\" % orderid2)\n",
    "print(open_orders.keys())\n",
    "\n",
    "print(\"Cancelling all orders\")\n",
    "app.cancel_all_orders()\n",
    "\n",
    "print(\"Any open orders? - should be False\")\n",
    "print(app.any_open_orders())\n",
    "\n",
    "app.disconnect()"
   ]
  },
  {
   "cell_type": "code",
   "execution_count": null,
   "metadata": {},
   "outputs": [],
   "source": []
  }
 ],
 "metadata": {
  "kernelspec": {
   "display_name": "Python 3",
   "language": "python",
   "name": "python3"
  },
  "language_info": {
   "codemirror_mode": {
    "name": "ipython",
    "version": 3
   },
   "file_extension": ".py",
   "mimetype": "text/x-python",
   "name": "python",
   "nbconvert_exporter": "python",
   "pygments_lexer": "ipython3",
   "version": "3.7.0"
  }
 },
 "nbformat": 4,
 "nbformat_minor": 2
}
