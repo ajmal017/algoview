{
 "cells": [
  {
   "cell_type": "code",
   "execution_count": 1,
   "metadata": {},
   "outputs": [],
   "source": [
    "from ibapi.wrapper import EWrapper\n",
    "from ibapi.client import EClient\n",
    "from ibapi.contract import Contract as IBcontract\n",
    "from ibapi.order import Order\n",
    "from ibapi.execution import ExecutionFilter\n",
    "from threading import Thread\n",
    "from importlib import reload as rel\n",
    "import numpy as np, pandas as pd, datetime as dt, time\n",
    "import queue, tools, collections\n",
    "import HistMktData as hmd, OrderPlacement as op"
   ]
  },
  {
   "cell_type": "markdown",
   "metadata": {},
   "source": [
    "#### Simulated inputs (from extension)"
   ]
  },
  {
   "cell_type": "code",
   "execution_count": 2,
   "metadata": {},
   "outputs": [],
   "source": [
    "underlying = 'EURUSD'\n",
    "msg = 'n=entryL1 d=long t=l p=0 q=1'"
   ]
  },
  {
   "cell_type": "code",
   "execution_count": 15,
   "metadata": {},
   "outputs": [
    {
     "name": "stdout",
     "output_type": "stream",
     "text": [
      "Getting full contract details from the server... \n",
      "12087792,EUR,CASH,,0.0,,,IDEALPRO,,USD,EUR.USD,EUR.USD,False,,combo:\n",
      "0,0,0: LMT BUY 1@1.140000 DAY\n"
     ]
    }
   ],
   "source": [
    "app = op.TestApp(\"127.0.0.1\", 7497, 2) # Connection\n",
    "ibcontract, order1 = tools.parse_message(app, underlying, msg)\n",
    "app.disconnect() # Disconnection"
   ]
  },
  {
   "cell_type": "markdown",
   "metadata": {},
   "source": [
    "#### Historical Market Data"
   ]
  },
  {
   "cell_type": "code",
   "execution_count": 5,
   "metadata": {},
   "outputs": [
    {
     "name": "stdout",
     "output_type": "stream",
     "text": [
      "Getting full contract details from the server... \n",
      "Getting historical data from the server... could take up to 8 seconds to complete \n",
      "IB error id -1 errorcode 2106 string HMDS data farm connection is OK:cashhmds\n"
     ]
    }
   ],
   "source": [
    "app = hmd.TestApp(\"127.0.0.1\", 7497, 1) # Connection\n",
    "ibcontract, minTick = tools.make_contract(app, underlying)\n",
    "hist_mkt_data = tools.get_hist_data(app, ibcontract, durationStr='2 D', barSizeSetting='1 hour')\n",
    "app.disconnect() # Disconnection"
   ]
  },
  {
   "cell_type": "markdown",
   "metadata": {},
   "source": [
    "#### Order Placement"
   ]
  },
  {
   "cell_type": "code",
   "execution_count": 18,
   "metadata": {},
   "outputs": [
    {
     "name": "stdout",
     "output_type": "stream",
     "text": [
      "IB error id -1 errorcode 504 string Not connected\n",
      "Exceeded maximum wait for wrapper to confirm finished - seems to be normal behaviour\n",
      "Failed to get additional contract details: returning unresolved contract\n",
      "Getting orderid from IB\n"
     ]
    },
    {
     "ename": "KeyboardInterrupt",
     "evalue": "",
     "output_type": "error",
     "traceback": [
      "\u001b[0;31m---------------------------------------------------------------------------\u001b[0m",
      "\u001b[0;31mKeyboardInterrupt\u001b[0m                         Traceback (most recent call last)",
      "\u001b[0;32m<ipython-input-18-b2b7cc14f13f>\u001b[0m in \u001b[0;36m<module>\u001b[0;34m\u001b[0m\n\u001b[1;32m     10\u001b[0m \u001b[0morder1\u001b[0m\u001b[0;34m.\u001b[0m\u001b[0mtransmit\u001b[0m \u001b[0;34m=\u001b[0m \u001b[0;32mTrue\u001b[0m\u001b[0;34m\u001b[0m\u001b[0;34m\u001b[0m\u001b[0m\n\u001b[1;32m     11\u001b[0m \u001b[0;34m\u001b[0m\u001b[0m\n\u001b[0;32m---> 12\u001b[0;31m \u001b[0morderid1\u001b[0m \u001b[0;34m=\u001b[0m \u001b[0mapp\u001b[0m\u001b[0;34m.\u001b[0m\u001b[0mplace_new_IB_order\u001b[0m\u001b[0;34m(\u001b[0m\u001b[0mresolved_ibcontract\u001b[0m\u001b[0;34m,\u001b[0m \u001b[0morder1\u001b[0m\u001b[0;34m,\u001b[0m \u001b[0morderid\u001b[0m\u001b[0;34m=\u001b[0m\u001b[0;32mNone\u001b[0m\u001b[0;34m)\u001b[0m\u001b[0;34m\u001b[0m\u001b[0;34m\u001b[0m\u001b[0m\n\u001b[0m\u001b[1;32m     13\u001b[0m \u001b[0;34m\u001b[0m\u001b[0m\n\u001b[1;32m     14\u001b[0m \u001b[0mprint\u001b[0m\u001b[0;34m(\u001b[0m\u001b[0;34m\"Placed market order, orderid is %d\"\u001b[0m \u001b[0;34m%\u001b[0m \u001b[0morderid1\u001b[0m\u001b[0;34m)\u001b[0m\u001b[0;34m\u001b[0m\u001b[0;34m\u001b[0m\u001b[0m\n",
      "\u001b[0;32m~/Projects/algoview/src/OrderPlacement.py\u001b[0m in \u001b[0;36mplace_new_IB_order\u001b[0;34m(self, ibcontract, order, orderid)\u001b[0m\n\u001b[1;32m    543\u001b[0m         \u001b[0;32mif\u001b[0m \u001b[0morderid\u001b[0m \u001b[0;32mis\u001b[0m \u001b[0;32mNone\u001b[0m\u001b[0;34m:\u001b[0m\u001b[0;34m\u001b[0m\u001b[0;34m\u001b[0m\u001b[0m\n\u001b[1;32m    544\u001b[0m             \u001b[0mprint\u001b[0m\u001b[0;34m(\u001b[0m\u001b[0;34m\"Getting orderid from IB\"\u001b[0m\u001b[0;34m)\u001b[0m\u001b[0;34m\u001b[0m\u001b[0;34m\u001b[0m\u001b[0m\n\u001b[0;32m--> 545\u001b[0;31m             \u001b[0morderid\u001b[0m \u001b[0;34m=\u001b[0m \u001b[0mself\u001b[0m\u001b[0;34m.\u001b[0m\u001b[0mget_next_brokerorderid\u001b[0m\u001b[0;34m(\u001b[0m\u001b[0;34m)\u001b[0m\u001b[0;34m\u001b[0m\u001b[0;34m\u001b[0m\u001b[0m\n\u001b[0m\u001b[1;32m    546\u001b[0m \u001b[0;34m\u001b[0m\u001b[0m\n\u001b[1;32m    547\u001b[0m             \u001b[0;32mif\u001b[0m \u001b[0morderid\u001b[0m \u001b[0;32mis\u001b[0m \u001b[0mTIME_OUT\u001b[0m\u001b[0;34m:\u001b[0m\u001b[0;34m\u001b[0m\u001b[0;34m\u001b[0m\u001b[0m\n",
      "\u001b[0;32m~/Projects/algoview/src/OrderPlacement.py\u001b[0m in \u001b[0;36mget_next_brokerorderid\u001b[0;34m(self)\u001b[0m\n\u001b[1;32m    523\u001b[0m         \u001b[0mMAX_WAIT_SECONDS\u001b[0m \u001b[0;34m=\u001b[0m \u001b[0;36m10\u001b[0m\u001b[0;34m\u001b[0m\u001b[0;34m\u001b[0m\u001b[0m\n\u001b[1;32m    524\u001b[0m         \u001b[0;32mtry\u001b[0m\u001b[0;34m:\u001b[0m\u001b[0;34m\u001b[0m\u001b[0;34m\u001b[0m\u001b[0m\n\u001b[0;32m--> 525\u001b[0;31m             \u001b[0mbrokerorderid\u001b[0m \u001b[0;34m=\u001b[0m \u001b[0morderid_q\u001b[0m\u001b[0;34m.\u001b[0m\u001b[0mget\u001b[0m\u001b[0;34m(\u001b[0m\u001b[0mtimeout\u001b[0m\u001b[0;34m=\u001b[0m\u001b[0mMAX_WAIT_SECONDS\u001b[0m\u001b[0;34m)\u001b[0m\u001b[0;34m\u001b[0m\u001b[0;34m\u001b[0m\u001b[0m\n\u001b[0m\u001b[1;32m    526\u001b[0m         \u001b[0;32mexcept\u001b[0m \u001b[0mqueue\u001b[0m\u001b[0;34m.\u001b[0m\u001b[0mEmpty\u001b[0m\u001b[0;34m:\u001b[0m\u001b[0;34m\u001b[0m\u001b[0;34m\u001b[0m\u001b[0m\n\u001b[1;32m    527\u001b[0m             \u001b[0mprint\u001b[0m\u001b[0;34m(\u001b[0m\u001b[0;34m\"Wrapper timeout waiting for broker orderid\"\u001b[0m\u001b[0;34m)\u001b[0m\u001b[0;34m\u001b[0m\u001b[0;34m\u001b[0m\u001b[0m\n",
      "\u001b[0;32m~/miniconda3/lib/python3.7/queue.py\u001b[0m in \u001b[0;36mget\u001b[0;34m(self, block, timeout)\u001b[0m\n\u001b[1;32m    177\u001b[0m                     \u001b[0;32mif\u001b[0m \u001b[0mremaining\u001b[0m \u001b[0;34m<=\u001b[0m \u001b[0;36m0.0\u001b[0m\u001b[0;34m:\u001b[0m\u001b[0;34m\u001b[0m\u001b[0;34m\u001b[0m\u001b[0m\n\u001b[1;32m    178\u001b[0m                         \u001b[0;32mraise\u001b[0m \u001b[0mEmpty\u001b[0m\u001b[0;34m\u001b[0m\u001b[0;34m\u001b[0m\u001b[0m\n\u001b[0;32m--> 179\u001b[0;31m                     \u001b[0mself\u001b[0m\u001b[0;34m.\u001b[0m\u001b[0mnot_empty\u001b[0m\u001b[0;34m.\u001b[0m\u001b[0mwait\u001b[0m\u001b[0;34m(\u001b[0m\u001b[0mremaining\u001b[0m\u001b[0;34m)\u001b[0m\u001b[0;34m\u001b[0m\u001b[0;34m\u001b[0m\u001b[0m\n\u001b[0m\u001b[1;32m    180\u001b[0m             \u001b[0mitem\u001b[0m \u001b[0;34m=\u001b[0m \u001b[0mself\u001b[0m\u001b[0;34m.\u001b[0m\u001b[0m_get\u001b[0m\u001b[0;34m(\u001b[0m\u001b[0;34m)\u001b[0m\u001b[0;34m\u001b[0m\u001b[0;34m\u001b[0m\u001b[0m\n\u001b[1;32m    181\u001b[0m             \u001b[0mself\u001b[0m\u001b[0;34m.\u001b[0m\u001b[0mnot_full\u001b[0m\u001b[0;34m.\u001b[0m\u001b[0mnotify\u001b[0m\u001b[0;34m(\u001b[0m\u001b[0;34m)\u001b[0m\u001b[0;34m\u001b[0m\u001b[0;34m\u001b[0m\u001b[0m\n",
      "\u001b[0;32m~/miniconda3/lib/python3.7/threading.py\u001b[0m in \u001b[0;36mwait\u001b[0;34m(self, timeout)\u001b[0m\n\u001b[1;32m    298\u001b[0m             \u001b[0;32melse\u001b[0m\u001b[0;34m:\u001b[0m\u001b[0;34m\u001b[0m\u001b[0;34m\u001b[0m\u001b[0m\n\u001b[1;32m    299\u001b[0m                 \u001b[0;32mif\u001b[0m \u001b[0mtimeout\u001b[0m \u001b[0;34m>\u001b[0m \u001b[0;36m0\u001b[0m\u001b[0;34m:\u001b[0m\u001b[0;34m\u001b[0m\u001b[0;34m\u001b[0m\u001b[0m\n\u001b[0;32m--> 300\u001b[0;31m                     \u001b[0mgotit\u001b[0m \u001b[0;34m=\u001b[0m \u001b[0mwaiter\u001b[0m\u001b[0;34m.\u001b[0m\u001b[0macquire\u001b[0m\u001b[0;34m(\u001b[0m\u001b[0;32mTrue\u001b[0m\u001b[0;34m,\u001b[0m \u001b[0mtimeout\u001b[0m\u001b[0;34m)\u001b[0m\u001b[0;34m\u001b[0m\u001b[0;34m\u001b[0m\u001b[0m\n\u001b[0m\u001b[1;32m    301\u001b[0m                 \u001b[0;32melse\u001b[0m\u001b[0;34m:\u001b[0m\u001b[0;34m\u001b[0m\u001b[0;34m\u001b[0m\u001b[0m\n\u001b[1;32m    302\u001b[0m                     \u001b[0mgotit\u001b[0m \u001b[0;34m=\u001b[0m \u001b[0mwaiter\u001b[0m\u001b[0;34m.\u001b[0m\u001b[0macquire\u001b[0m\u001b[0;34m(\u001b[0m\u001b[0;32mFalse\u001b[0m\u001b[0;34m)\u001b[0m\u001b[0;34m\u001b[0m\u001b[0;34m\u001b[0m\u001b[0m\n",
      "\u001b[0;31mKeyboardInterrupt\u001b[0m: "
     ]
    }
   ],
   "source": [
    "app = op.TestApp(\"127.0.0.1\", 7497, 1)\n",
    "\n",
    "## resolve the contract\n",
    "resolved_ibcontract = app.resolve_ib_contract(ibcontract)\n",
    "\n",
    "order1 = Order()\n",
    "order1.action = \"BUY\"\n",
    "order1.orderType = \"MKT\"\n",
    "order1.totalQuantity = 25000\n",
    "order1.transmit = True\n",
    "\n",
    "orderid1 = app.place_new_IB_order(resolved_ibcontract, order1, orderid=None)\n",
    "\n",
    "print(\"Placed market order, orderid is %d\" % orderid1)\n",
    "\n",
    "while app.any_open_orders():\n",
    "    ## Warning: this will pause forever if fill doesn't come back\n",
    "    time.sleep(1)\n",
    "\n",
    "## Have a look at the fill\n",
    "print(\"Recent fills\")\n",
    "filldetails = app.recent_fills_and_commissions()\n",
    "print(filldetails)\n",
    "\n",
    "## when I call again should be empty as we've cleared the memory of recent fills\n",
    "print(\"Recent fills (should be blank)\")\n",
    "morefilldetails = app.recent_fills_and_commissions()\n",
    "print(morefilldetails)\n",
    "\n",
    "## but this won't be\n",
    "print(\"Executions today\")\n",
    "execdetails = app.get_executions_and_commissions()\n",
    "print(execdetails)\n",
    "\n",
    "## And here is a limit order, unlikely ever to be filled\n",
    "## Note sell limit price of 2.00\n",
    "\n",
    "order2 = Order()\n",
    "order2.action = \"SELL\"\n",
    "order2.orderType = \"LMT\"\n",
    "order2.totalQuantity = 30000\n",
    "order2.lmtPrice = 2.00\n",
    "order2.tif = 'DAY'\n",
    "order2.transmit = True\n",
    "\n",
    "\n",
    "orderid2 = app.place_new_IB_order(resolved_ibcontract, order2, orderid=None)\n",
    "print(\"Placed limit order, orderid is %d\" % orderid2)\n",
    "\n",
    "## Short wait ...\n",
    "time.sleep(5)\n",
    "\n",
    "print(\"Open orders (should be one)\")\n",
    "open_orders = app.get_open_orders()\n",
    "print(open_orders)\n",
    "\n",
    "## put in another limit order\n",
    "order3 = Order()\n",
    "order3.action = \"BUY\"\n",
    "order3.orderType = \"LMT\"\n",
    "order3.totalQuantity = 35000\n",
    "order3.lmtPrice = 1.00\n",
    "order3.tif = 'DAY'\n",
    "order3.transmit = True\n",
    "\n",
    "orderid3 = app.place_new_IB_order(resolved_ibcontract, order3, orderid=None)\n",
    "print(\"Placed limit order, orderid is %d\" % orderid3)\n",
    "\n",
    "print(\"Open orders (should be two)\")\n",
    "open_orders = app.get_open_orders()\n",
    "print(open_orders.keys())\n",
    "\n",
    "time.sleep(5)\n",
    "\n",
    "## modify the order\n",
    "\n",
    "print(\"Modifying order %d\" % orderid3)\n",
    "\n",
    "order3.lmtPrice = 1.05\n",
    "\n",
    "print(\"Limit price was %f will become %f\" % (open_orders[orderid3].order.lmtPrice, order3.lmtPrice ))\n",
    "\n",
    "app.place_new_IB_order(resolved_ibcontract, order3, orderid=orderid3)\n",
    "time.sleep(5)\n",
    "open_orders = app.get_open_orders()\n",
    "print(\"New limit price %f \" % open_orders[orderid3].order.lmtPrice)\n",
    "\n",
    "## Cancel a single limit order, leaving one active limit order (order3)\n",
    "print(\"Cancel order %d \" % orderid2)\n",
    "app.cancel_order(orderid2)\n",
    "open_orders = app.get_open_orders()\n",
    "\n",
    "print(\"Open orders (should just be %d)\" % orderid2)\n",
    "print(open_orders.keys())\n",
    "\n",
    "print(\"Cancelling all orders\")\n",
    "app.cancel_all_orders()\n",
    "\n",
    "print(\"Any open orders? - should be False\")\n",
    "print(app.any_open_orders())\n",
    "\n",
    "app.disconnect()"
   ]
  },
  {
   "cell_type": "code",
   "execution_count": null,
   "metadata": {},
   "outputs": [],
   "source": []
  }
 ],
 "metadata": {
  "kernelspec": {
   "display_name": "Python 3",
   "language": "python",
   "name": "python3"
  },
  "language_info": {
   "codemirror_mode": {
    "name": "ipython",
    "version": 3
   },
   "file_extension": ".py",
   "mimetype": "text/x-python",
   "name": "python",
   "nbconvert_exporter": "python",
   "pygments_lexer": "ipython3",
   "version": "3.7.1"
  }
 },
 "nbformat": 4,
 "nbformat_minor": 2
}
