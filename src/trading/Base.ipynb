{
 "cells": [
  {
   "cell_type": "code",
   "execution_count": 1,
   "metadata": {},
   "outputs": [],
   "source": [
    "from importlib import reload as rel\n",
    "import os, numpy as np, pandas as pd, datetime as dt, time\n",
    "cwd = os.getcwd()\n",
    "if cwd.find('src') != len(cwd)-3:\n",
    "    if cwd.find('algoview') == len(cwd)-8:\n",
    "        os.chdir(cwd + '/src')\n",
    "    elif len(cwd) > cwd.find('src')+3:\n",
    "        os.chdir(cwd[:cwd.find('src')+3])\n",
    "    else: print('Warning: cannot resolve path')\n",
    "import queue, collections, trading.utils as utils, trading.functions as fn\n",
    "import trading.LiveMktData as lmd, trading.OrderPlacement as op, trading.AccountPositions as ap"
   ]
  },
  {
   "cell_type": "markdown",
   "metadata": {},
   "source": [
    "#### Simulated inputs (from extension)"
   ]
  },
  {
   "cell_type": "code",
   "execution_count": 2,
   "metadata": {},
   "outputs": [],
   "source": [
    "underlying = 'USO'\n",
    "msg = 'n=entryL1 d=long t=m p=0 q=1 u=1 c=10000 b=1h'"
   ]
  },
  {
   "cell_type": "code",
   "execution_count": 3,
   "metadata": {},
   "outputs": [
    {
     "name": "stdout",
     "output_type": "stream",
     "text": [
      "IB error id -1 errorcode 2107 string HMDS data farm connection is inactive but should be available upon demand.njhmds.nj\n",
      "IB error id -1 errorcode 2107 string HMDS data farm connection is inactive but should be available upon demand.njhmds\n",
      "IB error id -1 errorcode 2107 string HMDS data farm connection is inactive but should be available upon demand.cashhmds\n",
      "IB error id -1 errorcode 2106 string HMDS data farm connection is OK:njhmds.nj\n",
      "IB error id 50 errorcode 366 string No historical data query found for ticker id:50\n",
      "IB error id 55 errorcode 399 string Order Message:\n",
      "BUY 909 USO ARCA\n",
      "Warning: your order will not be placed at the exchange until 2019-01-14 09:30:00 US/Eastern\n"
     ]
    }
   ],
   "source": [
    "start_time = time.time()\n",
    "\n",
    "error = None\n",
    "info = None\n",
    "fill_status = False\n",
    "avg_price = 0\n",
    "orderid1 = None\n",
    "\n",
    "try:\n",
    "    app = fn.reconnect()['app']\n",
    "    contract_dets = fn.make_contract(app, underlying)\n",
    "    order1 = fn.make_order(app, contract_dets, msg)\n",
    "\n",
    "    if order1.totalQuantity != 0:\n",
    "        orderid1 = app.place_new_IB_order(\n",
    "            contract_dets['ibcontract'], order1, orderid=None)\n",
    "        fill_dets = fn.check_fill(app, order1, orderid1)\n",
    "        fill_status = fill_dets['fill_status']\n",
    "        avg_price = fill_dets['price']\n",
    "    else:\n",
    "        info = \"Nothing to trade\"\n",
    "    \n",
    "    exec_df = fn.get_execDetails(app)\n",
    "    orders_df = fn.get_openOrders(app)\n",
    "    \n",
    "    app.disconnect()\n",
    "except Exception as Exc:\n",
    "    app.disconnect()\n",
    "    error = Exc\n",
    "\n",
    "end_time = time.time()"
   ]
  },
  {
   "cell_type": "code",
   "execution_count": 4,
   "metadata": {},
   "outputs": [
    {
     "data": {
      "text/html": [
       "<div>\n",
       "<style scoped>\n",
       "    .dataframe tbody tr th:only-of-type {\n",
       "        vertical-align: middle;\n",
       "    }\n",
       "\n",
       "    .dataframe tbody tr th {\n",
       "        vertical-align: top;\n",
       "    }\n",
       "\n",
       "    .dataframe thead th {\n",
       "        text-align: right;\n",
       "    }\n",
       "</style>\n",
       "<table border=\"1\" class=\"dataframe\">\n",
       "  <thead>\n",
       "    <tr style=\"text-align: right;\">\n",
       "      <th></th>\n",
       "      <th>underlying</th>\n",
       "      <th>OrderId</th>\n",
       "      <th>AvgPrice</th>\n",
       "      <th>Shares</th>\n",
       "      <th>conId</th>\n",
       "      <th>ClientId</th>\n",
       "    </tr>\n",
       "    <tr>\n",
       "      <th>time</th>\n",
       "      <th></th>\n",
       "      <th></th>\n",
       "      <th></th>\n",
       "      <th></th>\n",
       "      <th></th>\n",
       "      <th></th>\n",
       "    </tr>\n",
       "  </thead>\n",
       "  <tbody>\n",
       "  </tbody>\n",
       "</table>\n",
       "</div>"
      ],
      "text/plain": [
       "Empty DataFrame\n",
       "Columns: [underlying, OrderId, AvgPrice, Shares, conId, ClientId]\n",
       "Index: []"
      ]
     },
     "execution_count": 4,
     "metadata": {},
     "output_type": "execute_result"
    }
   ],
   "source": [
    "exec_df.tail()"
   ]
  },
  {
   "cell_type": "code",
   "execution_count": 7,
   "metadata": {},
   "outputs": [
    {
     "data": {
      "text/plain": [
       "\u001b[0;31mSignature:\u001b[0m \u001b[0mapp\u001b[0m\u001b[0;34m.\u001b[0m\u001b[0mcancel_all_orders\u001b[0m\u001b[0;34m(\u001b[0m\u001b[0;34m)\u001b[0m\u001b[0;34m\u001b[0m\u001b[0;34m\u001b[0m\u001b[0m\n",
       "\u001b[0;31mDocstring:\u001b[0m <no docstring>\n",
       "\u001b[0;31mFile:\u001b[0m      ~/Projects/algoview/src/trading/client.py\n",
       "\u001b[0;31mType:\u001b[0m      method\n"
      ]
     },
     "metadata": {},
     "output_type": "display_data"
    }
   ],
   "source": []
  },
  {
   "cell_type": "code",
   "execution_count": 10,
   "metadata": {},
   "outputs": [
    {
     "name": "stdout",
     "output_type": "stream",
     "text": [
      "IB error id -1 errorcode 2106 string HMDS data farm connection is OK:njhmds.nj\n",
      "IB error id -1 errorcode 2107 string HMDS data farm connection is inactive but should be available upon demand.njhmds\n",
      "IB error id -1 errorcode 2107 string HMDS data farm connection is inactive but should be available upon demand.cashhmds\n"
     ]
    }
   ],
   "source": [
    "app = fn.reconnect()['app']\n",
    "orders_df = fn.get_openOrders(app) # app.cancel_all_orders()\n",
    "app.disconnect()"
   ]
  },
  {
   "cell_type": "code",
   "execution_count": 11,
   "metadata": {},
   "outputs": [
    {
     "data": {
      "text/html": [
       "<div>\n",
       "<style scoped>\n",
       "    .dataframe tbody tr th:only-of-type {\n",
       "        vertical-align: middle;\n",
       "    }\n",
       "\n",
       "    .dataframe tbody tr th {\n",
       "        vertical-align: top;\n",
       "    }\n",
       "\n",
       "    .dataframe thead th {\n",
       "        text-align: right;\n",
       "    }\n",
       "</style>\n",
       "<table border=\"1\" class=\"dataframe\">\n",
       "  <thead>\n",
       "    <tr style=\"text-align: right;\">\n",
       "      <th></th>\n",
       "      <th>status</th>\n",
       "      <th>underlying</th>\n",
       "      <th>direction</th>\n",
       "      <th>order type</th>\n",
       "      <th>quantity</th>\n",
       "      <th>price</th>\n",
       "      <th>filled</th>\n",
       "      <th>avg fill px</th>\n",
       "      <th>conId</th>\n",
       "      <th>ClientId</th>\n",
       "    </tr>\n",
       "  </thead>\n",
       "  <tbody>\n",
       "  </tbody>\n",
       "</table>\n",
       "</div>"
      ],
      "text/plain": [
       "Empty DataFrame\n",
       "Columns: [status, underlying, direction, order type, quantity, price, filled, avg fill px, conId, ClientId]\n",
       "Index: []"
      ]
     },
     "execution_count": 11,
     "metadata": {},
     "output_type": "execute_result"
    }
   ],
   "source": [
    "orders_df.tail()"
   ]
  },
  {
   "cell_type": "markdown",
   "metadata": {},
   "source": [
    "#### Historical Market Data"
   ]
  },
  {
   "cell_type": "code",
   "execution_count": null,
   "metadata": {},
   "outputs": [],
   "source": [
    "app = fn.reconnect()\n",
    "ibcontract, minTick = fn.make_contract(app, underlying)\n",
    "hist_mkt_data = app.get_IB_historical_data(ibcontract, durationStr='2 D', barSizeSetting='1 hour')\n",
    "app.disconnect()"
   ]
  },
  {
   "cell_type": "markdown",
   "metadata": {},
   "source": [
    "#### Account Positions"
   ]
  },
  {
   "cell_type": "code",
   "execution_count": null,
   "metadata": {},
   "outputs": [],
   "source": [
    "app = fn.reconnect()\n",
    "\n",
    "## lets get positions\n",
    "positions_list = app.get_current_positions()\n",
    "print(positions_list)\n",
    "\n",
    "## get the account name from the position\n",
    "## normally you would know your account name\n",
    "accountName = positions_list[0][0] #'DU486001'\n",
    "\n",
    "## and accounting information\n",
    "accounting_values = app.get_accounting_values(accountName)\n",
    "print(accounting_values)\n",
    "\n",
    "## these values are cached\n",
    "## if we ask again in more than 5 minutes it will update everything\n",
    "accounting_updates = app.get_accounting_updates(accountName)\n",
    "print(accounting_updates)\n",
    "\n",
    "app.disconnect()"
   ]
  },
  {
   "cell_type": "code",
   "execution_count": null,
   "metadata": {},
   "outputs": [],
   "source": []
  }
 ],
 "metadata": {
  "kernelspec": {
   "display_name": "Python 3",
   "language": "python",
   "name": "python3"
  },
  "language_info": {
   "codemirror_mode": {
    "name": "ipython",
    "version": 3
   },
   "file_extension": ".py",
   "mimetype": "text/x-python",
   "name": "python",
   "nbconvert_exporter": "python",
   "pygments_lexer": "ipython3",
   "version": "3.7.2"
  }
 },
 "nbformat": 4,
 "nbformat_minor": 2
}
