{
 "cells": [
  {
   "cell_type": "code",
   "execution_count": 96,
   "metadata": {},
   "outputs": [],
   "source": [
    "from importlib import reload as rel\n",
<<<<<<< HEAD
    "from pathlib import Path\n",
    "import numpy as np, pandas as pd, datetime as dt, matplotlib.pyplot as plt, time, os\n",
    "os.chdir(str(Path.home()) + '/Projects/algoview/src')\n",
=======
    "import numpy as np, pandas as pd, datetime as dt, matplotlib.pyplot as plt, time\n",
    "cwd = change_cwd('src')\n",
>>>>>>> b5c564b768b5e2895dedde8ae8efc9e45d7fcbef
    "import queue, collections, trading.utils as utils, trading.functions as fn, database as db\n",
    "import trading.LiveMktData as lmd, trading.OrderPlacement as op, trading.AccountPositions as ap"
   ]
  },
  {
   "cell_type": "markdown",
   "metadata": {},
   "source": [
    "#### Simulated inputs (from extension)"
   ]
  },
  {
   "cell_type": "code",
   "execution_count": 2,
   "metadata": {},
   "outputs": [],
   "source": [
    "underlying = 'USO'\n",
    "msg = 'n=entryL1 d=long t=m p=0 q=1 u=1 c=10000 b=1h'"
   ]
  },
  {
   "cell_type": "code",
   "execution_count": 11,
   "metadata": {},
   "outputs": [
    {
     "data": {
      "text/plain": [
       "'/Users/evelynestrechinsky/Projects/algoview/src'"
      ]
     },
     "execution_count": 11,
     "metadata": {},
     "output_type": "execute_result"
    }
   ],
   "source": [
    "os.getcwd()"
   ]
  },
  {
   "cell_type": "markdown",
   "metadata": {},
   "source": [
    "#### Format Backtest data from TV"
   ]
  },
  {
   "cell_type": "code",
   "execution_count": 9,
   "metadata": {},
   "outputs": [
    {
     "name": "stdout",
     "output_type": "stream",
     "text": [
      "IB error id -1 errorcode 2106 string HMDS data farm connection is OK:ushmds.nj\n",
      "IB error id -1 errorcode 2107 string HMDS data farm connection is inactive but should be available upon demand.ushmds\n"
     ]
    }
   ],
   "source": [
<<<<<<< HEAD
    "TV_data = pd.read_excel(r'/Users/evelynestrechinsky/Projects/algoview/Strategies.xlsm', sheet_name='To Python')\n",
=======
    "TV_data = pd.read_excel(r'/Users/evelynestrechinsky/Projects/algoview/Strategies.xlsm', sheet_name='For Python')\n",
>>>>>>> b5c564b768b5e2895dedde8ae8efc9e45d7fcbef
    "order_params = utils.parse_message(msg)\n",
    "\n",
    "tot_len = TV_data['Date/Time'].max() - TV_data['Date/Time'].min()\n",
    "\n",
    "if tot_len.days > 280:\n",
    "    durationStr = str(int(tot_len.days/365) + 1) + ' Y'\n",
    "elif tot_len.days / 30 < 1:\n",
    "    durationStr = str(int(tot_len.days) + 1) + ' D'\n",
    "else:\n",
    "    durationStr = str(int(tot_len.days / 30 + 1)) + ' M'\n",
    "\n",
    "app = fn.reconnect()['app']\n",
    "contract_dets = fn.make_contract(app, underlying)\n",
    "hist_mkt_data = app.get_IB_historical_data(contract_dets['ibcontract'], durationStr, barSizeSetting=db.bar_to_str[order_params['b']])\n",
    "app.disconnect()\n",
    "\n",
    "price_data = pd.DataFrame(hist_mkt_data, columns=['Date', 'O', 'H', 'L', 'C', 'V'])\n",
    "price_data['Date'] = pd.to_datetime(price_data['Date'])\n",
    "price_data.set_index('Date', inplace=True)\n",
    "price_data['Price'] = price_data['O'] #round(( price_data['O'] + price_data['C'] ) / 2, 2)\n",
    "price_data.drop(labels=['O','H','L','C','V'], axis=1, inplace=True)\n",
    "\n",
    "df = utils.date_range(start=TV_data['Date/Time'].min(), end=TV_data['Date/Time'].max(), bar_size=order_params['b'])\n",
    "df.set_index('Date', inplace=True)"
   ]
  },
  {
   "cell_type": "code",
   "execution_count": 10,
   "metadata": {},
   "outputs": [],
   "source": [
    "nb_item = len(TV_data)\n",
    "contract_list = []\n",
    "for i, row in TV_data.iterrows():                    ## Correct the Contracts column\n",
    "    sign = 1\n",
    "    if row.Type == 'Entry Short' or row.Type == 'Exit Long':\n",
    "        sign = -1\n",
    "    if np.isnan(row.Contracts) and i<nb_item-1:\n",
    "        contract_list.append(sign * TV_data['Contracts'][i+1])\n",
    "    else:\n",
    "        contract_list.append(sign * row.Contracts)\n",
    "    \n",
    "new = pd.DataFrame({'Contracts': contract_list})\n",
    "TV_data['Contracts'] = new['Contracts']             ## Replace the Contracts column by the corrected one\n",
    "\n",
    "TV_data.drop(['Trade #','Type','Signal','Profit', 'Price'], axis=1, inplace=True)\n",
    "TV_data = TV_data.drop_duplicates(['Date/Time', 'Contracts']).groupby('Date/Time').agg(sum)  ## Aggregate contracts traded on each date (no duplicates)\n",
    "#  TV_data = TV_data.drop_duplicates(['Date/Time', 'Contracts']).groupby('Date/Time').agg(['min', 'sum'])  ## Aggregate contracts traded on each date (no duplicates)\n",
    "TV_data.index.names = ['Date']\n",
    "#  TV_data = pd.DataFrame({'Contracts': TV_data['Contracts']['sum'], 'Price': TV_data['Price']['min']}, index=TV_data.index)"
   ]
  },
  {
   "cell_type": "code",
   "execution_count": 5,
   "metadata": {},
   "outputs": [],
   "source": [
    "df2 = df.join(price_data).fillna(method='ffill')\n",
    "df3 = df2.join(TV_data).fillna(value=0)\n",
    "df3['Position'] = df3['Contracts'].cumsum().shift(1)  ## Inferring positions at each time from the Contracts column\n",
    "df4 = df3.drop('Contracts', axis=1).fillna(0)\n",
    "df4['PnL'] = df4['Position'] * ( df4['Price'] - df4['Price'].shift(1) )\n",
    "df4['Perf'] = df4['PnL'].cumsum()"
   ]
  },
  {
   "cell_type": "code",
<<<<<<< HEAD
   "execution_count": 6,
   "metadata": {},
   "outputs": [],
   "source": [
    "writer = pd.ExcelWriter(utils.get_path('algoview')+'FromPython.xlsx')\n",
    "df4.to_excel(writer,'From Python',index=True)\n",
=======
   "execution_count": 111,
   "metadata": {},
   "outputs": [],
   "source": [
    "writer = pd.ExcelWriter(utils.get_path('algoview')+'Strategies.xlsm')\n",
    "df4.to_excel(writer,'Sheet1',index=True)\n",
>>>>>>> b5c564b768b5e2895dedde8ae8efc9e45d7fcbef
    "writer.save()"
   ]
  },
  {
   "cell_type": "code",
   "execution_count": 6,
   "metadata": {},
   "outputs": [
    {
     "data": {
      "text/plain": [
       "[<matplotlib.lines.Line2D at 0x11c95c160>]"
      ]
     },
     "execution_count": 6,
     "metadata": {},
     "output_type": "execute_result"
    },
    {
     "data": {
      "image/png": "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\n",
      "text/plain": [
       "<Figure size 432x288 with 1 Axes>"
      ]
     },
     "metadata": {
      "needs_background": "light"
     },
     "output_type": "display_data"
    }
   ],
   "source": [
    "plt.plot(df4['Perf'])"
   ]
  },
  {
   "cell_type": "markdown",
   "metadata": {},
   "source": [
    "#### Main.py"
   ]
  },
  {
   "cell_type": "code",
   "execution_count": 3,
   "metadata": {},
   "outputs": [
    {
     "name": "stdout",
     "output_type": "stream",
     "text": [
      "IB error id -1 errorcode 2107 string HMDS data farm connection is inactive but should be available upon demand.njhmds.nj\n",
      "IB error id -1 errorcode 2107 string HMDS data farm connection is inactive but should be available upon demand.njhmds\n",
      "IB error id -1 errorcode 2106 string HMDS data farm connection is OK:cashhmds\n",
      "IB error id 50 errorcode 366 string No historical data query found for ticker id:50\n"
     ]
    }
   ],
   "source": [
    "start_time = time.time()\n",
    "\n",
    "error = None\n",
    "info = None\n",
    "fill_status = False\n",
    "avg_price = 0\n",
    "orderid1 = None\n",
    "\n",
    "try:\n",
    "    app = fn.reconnect()['app']\n",
    "    contract_dets = fn.make_contract(app, underlying)\n",
    "    order1 = fn.make_order(app, contract_dets, msg)\n",
    "\n",
    "    if order1.totalQuantity != 0:\n",
    "        orderid1 = app.place_new_IB_order(\n",
    "            contract_dets['ibcontract'], order1, orderid=None)\n",
    "        fill_dets = fn.check_fill(app, order1, orderid1)\n",
    "        fill_status = fill_dets['fill_status']\n",
    "        avg_price = fill_dets['price']\n",
    "    else:\n",
    "        info = \"Nothing to trade\"\n",
    "    \n",
    "    exec_df = fn.get_execDetails(app)\n",
    "    orders_df = fn.get_openOrders(app)\n",
    "    \n",
    "    app.disconnect()\n",
    "except Exception as Exc:\n",
    "    app.disconnect()\n",
    "    error = Exc\n",
    "\n",
    "end_time = time.time()"
   ]
  },
  {
   "cell_type": "code",
   "execution_count": 4,
   "metadata": {},
   "outputs": [
    {
     "data": {
      "text/html": [
       "<div>\n",
       "<style scoped>\n",
       "    .dataframe tbody tr th:only-of-type {\n",
       "        vertical-align: middle;\n",
       "    }\n",
       "\n",
       "    .dataframe tbody tr th {\n",
       "        vertical-align: top;\n",
       "    }\n",
       "\n",
       "    .dataframe thead th {\n",
       "        text-align: right;\n",
       "    }\n",
       "</style>\n",
       "<table border=\"1\" class=\"dataframe\">\n",
       "  <thead>\n",
       "    <tr style=\"text-align: right;\">\n",
       "      <th></th>\n",
       "      <th>underlying</th>\n",
       "      <th>OrderId</th>\n",
       "      <th>AvgPrice</th>\n",
       "      <th>Shares</th>\n",
       "      <th>conId</th>\n",
       "      <th>ClientId</th>\n",
       "    </tr>\n",
       "    <tr>\n",
       "      <th>time</th>\n",
       "      <th></th>\n",
       "      <th></th>\n",
       "      <th></th>\n",
       "      <th></th>\n",
       "      <th></th>\n",
       "      <th></th>\n",
       "    </tr>\n",
       "  </thead>\n",
       "  <tbody>\n",
       "    <tr>\n",
       "      <th>20190114  13:30:15</th>\n",
       "      <td>EURUSD</td>\n",
       "      <td>63</td>\n",
       "      <td>1.14619</td>\n",
       "      <td>81070</td>\n",
       "      <td>12087792</td>\n",
       "      <td>1</td>\n",
       "    </tr>\n",
       "    <tr>\n",
       "      <th>20190114  13:31:16</th>\n",
       "      <td>EURUSD</td>\n",
       "      <td>64</td>\n",
       "      <td>1.14614</td>\n",
       "      <td>81070</td>\n",
       "      <td>12087792</td>\n",
       "      <td>1</td>\n",
       "    </tr>\n",
       "    <tr>\n",
       "      <th>20190114  13:32:17</th>\n",
       "      <td>EURUSD</td>\n",
       "      <td>65</td>\n",
       "      <td>1.14631</td>\n",
       "      <td>81070</td>\n",
       "      <td>12087792</td>\n",
       "      <td>1</td>\n",
       "    </tr>\n",
       "    <tr>\n",
       "      <th>20190114  13:33:18</th>\n",
       "      <td>EURUSD</td>\n",
       "      <td>66</td>\n",
       "      <td>1.14618</td>\n",
       "      <td>81070</td>\n",
       "      <td>12087792</td>\n",
       "      <td>1</td>\n",
       "    </tr>\n",
       "    <tr>\n",
       "      <th>20190114  13:39:04</th>\n",
       "      <td>EURUSD</td>\n",
       "      <td>67</td>\n",
       "      <td>1.14603</td>\n",
       "      <td>81070</td>\n",
       "      <td>12087792</td>\n",
       "      <td>1</td>\n",
       "    </tr>\n",
       "  </tbody>\n",
       "</table>\n",
       "</div>"
      ],
      "text/plain": [
       "                   underlying  OrderId  AvgPrice  Shares     conId  ClientId\n",
       "time                                                                        \n",
       "20190114  13:30:15     EURUSD       63   1.14619   81070  12087792         1\n",
       "20190114  13:31:16     EURUSD       64   1.14614   81070  12087792         1\n",
       "20190114  13:32:17     EURUSD       65   1.14631   81070  12087792         1\n",
       "20190114  13:33:18     EURUSD       66   1.14618   81070  12087792         1\n",
       "20190114  13:39:04     EURUSD       67   1.14603   81070  12087792         1"
      ]
     },
     "execution_count": 4,
     "metadata": {},
     "output_type": "execute_result"
    }
   ],
   "source": [
    "exec_df.tail()"
   ]
  },
  {
   "cell_type": "code",
   "execution_count": 5,
   "metadata": {},
   "outputs": [
    {
     "data": {
      "text/html": [
       "<div>\n",
       "<style scoped>\n",
       "    .dataframe tbody tr th:only-of-type {\n",
       "        vertical-align: middle;\n",
       "    }\n",
       "\n",
       "    .dataframe tbody tr th {\n",
       "        vertical-align: top;\n",
       "    }\n",
       "\n",
       "    .dataframe thead th {\n",
       "        text-align: right;\n",
       "    }\n",
       "</style>\n",
       "<table border=\"1\" class=\"dataframe\">\n",
       "  <thead>\n",
       "    <tr style=\"text-align: right;\">\n",
       "      <th></th>\n",
       "      <th>status</th>\n",
       "      <th>underlying</th>\n",
       "      <th>direction</th>\n",
       "      <th>order type</th>\n",
       "      <th>quantity</th>\n",
       "      <th>price</th>\n",
       "      <th>filled</th>\n",
       "      <th>avg fill px</th>\n",
       "      <th>conId</th>\n",
       "      <th>ClientId</th>\n",
       "    </tr>\n",
       "  </thead>\n",
       "  <tbody>\n",
       "  </tbody>\n",
       "</table>\n",
       "</div>"
      ],
      "text/plain": [
       "Empty DataFrame\n",
       "Columns: [status, underlying, direction, order type, quantity, price, filled, avg fill px, conId, ClientId]\n",
       "Index: []"
      ]
     },
     "execution_count": 5,
     "metadata": {},
     "output_type": "execute_result"
    }
   ],
   "source": [
    "orders_df.tail()"
   ]
  },
  {
   "cell_type": "code",
   "execution_count": 18,
   "metadata": {},
   "outputs": [
    {
     "name": "stdout",
     "output_type": "stream",
     "text": [
      "IB error id -1 errorcode 2106 string HMDS data farm connection is OK:njhmds.nj\n",
      "IB error id -1 errorcode 2107 string HMDS data farm connection is inactive but should be available upon demand.njhmds\n",
      "IB error id -1 errorcode 2106 string HMDS data farm connection is OK:cashhmds\n",
      "IB error id 59 errorcode 161 string Cancel attempted when order is not in a cancellable state.  Order permId =821852069\n",
      "IB error id 58 errorcode 202 string Order Canceled - reason:\n"
     ]
    }
   ],
   "source": [
    "app = fn.reconnect()['app']\n",
    "app.cancel_all_orders()\n",
    "app.disconnect()"
   ]
  },
  {
   "cell_type": "markdown",
   "metadata": {},
   "source": [
    "#### Historical Market Data"
   ]
  },
  {
   "cell_type": "code",
   "execution_count": null,
   "metadata": {},
   "outputs": [],
   "source": [
    "app = fn.reconnect()['app']\n",
    "contract_dets = fn.make_contract(app, underlying)\n",
    "hist_mkt_data = app.get_IB_historical_data(contract_dets['ibcontract'], durationStr='2 D', barSizeSetting='1 hour')\n",
    "app.disconnect()"
   ]
  },
  {
   "cell_type": "markdown",
   "metadata": {},
   "source": [
    "#### Account Positions"
   ]
  },
  {
   "cell_type": "code",
   "execution_count": null,
   "metadata": {},
   "outputs": [],
   "source": [
    "app = fn.reconnect()['app']\n",
    "\n",
    "## lets get positions\n",
    "positions_list = app.get_current_positions()\n",
    "print(positions_list)\n",
    "\n",
    "## get the account name from the position\n",
    "## normally you would know your account name\n",
    "accountName = positions_list[0][0] #'DU486001'\n",
    "\n",
    "## and accounting information\n",
    "accounting_values = app.get_accounting_values(accountName)\n",
    "print(accounting_values)\n",
    "\n",
    "## these values are cached\n",
    "## if we ask again in more than 5 minutes it will update everything\n",
    "accounting_updates = app.get_accounting_updates(accountName)\n",
    "print(accounting_updates)\n",
    "\n",
    "app.disconnect()"
   ]
  },
  {
   "cell_type": "code",
   "execution_count": null,
   "metadata": {},
   "outputs": [],
   "source": []
  }
 ],
 "metadata": {
  "kernelspec": {
   "display_name": "Python 3",
   "language": "python",
   "name": "python3"
  },
  "language_info": {
   "codemirror_mode": {
    "name": "ipython",
    "version": 3
   },
   "file_extension": ".py",
   "mimetype": "text/x-python",
   "name": "python",
   "nbconvert_exporter": "python",
   "pygments_lexer": "ipython3",
   "version": "3.7.1"
  }
 },
 "nbformat": 4,
 "nbformat_minor": 2
}
