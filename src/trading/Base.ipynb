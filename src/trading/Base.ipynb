{
 "cells": [
  {
   "cell_type": "code",
   "execution_count": 1,
   "metadata": {},
   "outputs": [],
   "source": [
    "from importlib import reload as rel\n",
    "import os, numpy as np, pandas as pd, datetime as dt, time\n",
    "cwd = os.getcwd()\n",
    "if cwd.find('src') != len(cwd)-3:\n",
    "    if cwd.find('algoview') == len(cwd)-8:\n",
    "        os.chdir(cwd + '/src')\n",
    "    elif len(cwd) > cwd.find('src')+3:\n",
    "        os.chdir(cwd[:cwd.find('src')+3])\n",
    "    else: print('Warning: cannot resolve path')\n",
    "import queue, collections, trading.utils as utils, trading.functions as fn\n",
    "import trading.LiveMktData as lmd, trading.OrderPlacement as op, trading.AccountPositions as ap"
   ]
  },
  {
   "cell_type": "markdown",
   "metadata": {},
   "source": [
    "#### Simulated inputs (from extension)"
   ]
  },
  {
   "cell_type": "code",
   "execution_count": 2,
   "metadata": {},
   "outputs": [],
   "source": [
    "underlying = 'EURUSD'\n",
    "msg = 'n=entryL1 d=long t=m p=0 q=1 u=1 c=10000 b=1h'"
   ]
  },
  {
   "cell_type": "code",
   "execution_count": 3,
   "metadata": {},
   "outputs": [
    {
     "name": "stdout",
     "output_type": "stream",
     "text": [
      "IB error id -1 errorcode 2107 string HMDS data farm connection is inactive but should be available upon demand.njhmds.nj\n",
      "IB error id -1 errorcode 2107 string HMDS data farm connection is inactive but should be available upon demand.njhmds\n",
      "IB error id -1 errorcode 2106 string HMDS data farm connection is OK:cashhmds\n",
      "IB error id 50 errorcode 366 string No historical data query found for ticker id:50\n"
     ]
    }
   ],
   "source": [
    "start_time = time.time()\n",
    "\n",
    "error = None\n",
    "info = None\n",
    "fill_status = False\n",
    "avg_price = 0\n",
    "orderid1 = None\n",
    "\n",
    "try:\n",
    "    app = fn.reconnect()['app']\n",
    "    contract_dets = fn.make_contract(app, underlying)\n",
    "    order1 = fn.make_order(app, contract_dets, msg)\n",
    "\n",
    "    if order1.totalQuantity != 0:\n",
    "        orderid1 = app.place_new_IB_order(\n",
    "            contract_dets['ibcontract'], order1, orderid=None)\n",
    "        fill_dets = fn.check_fill(app, order1, orderid1)\n",
    "        fill_status = fill_dets['fill_status']\n",
    "        avg_price = fill_dets['price']\n",
    "    else:\n",
    "        info = \"Nothing to trade\"\n",
    "    \n",
    "    exec_df = fn.get_execDetails(app)\n",
    "    orders_df = fn.get_openOrders(app)\n",
    "    \n",
    "    app.disconnect()\n",
    "except Exception as Exc:\n",
    "    app.disconnect()\n",
    "    error = Exc\n",
    "\n",
    "end_time = time.time()"
   ]
  },
  {
   "cell_type": "code",
   "execution_count": 7,
   "metadata": {},
   "outputs": [
    {
     "name": "stdout",
     "output_type": "stream",
     "text": [
      "IB error id -1 errorcode 2107 string HMDS data farm connection is inactive but should be available upon demand.njhmds.nj\n",
      "IB error id -1 errorcode 2107 string HMDS data farm connection is inactive but should be available upon demand.njhmds\n",
      "IB error id -1 errorcode 2106 string HMDS data farm connection is OK:cashhmds\n"
     ]
    }
   ],
   "source": [
    "app = fn.reconnect()['app']\n",
    "exec_str = app.get_executions_and_commissions()\n",
    "app.disconnect()"
   ]
  },
  {
   "cell_type": "code",
   "execution_count": 11,
   "metadata": {},
   "outputs": [],
   "source": [
    "exec_list = [str(v) for k, v in exec_str.items()]"
   ]
  },
  {
   "cell_type": "code",
   "execution_count": null,
   "metadata": {},
   "outputs": [],
   "source": []
  },
  {
   "cell_type": "code",
   "execution_count": 14,
   "metadata": {},
   "outputs": [
    {
     "data": {
      "text/plain": [
       "Execution - contract: 12087792,EUR,CASH,,0.0,,,IDEALPRO,,USD,EUR.USD,EUR.USD,False,,combo: ClientId: 1 OrderId: 59 time: 20190114  13:11:30 AvgPrice: 1.14696 Price: 1.14696 AcctNumber: DU486001 Shares: 82576.0 Commission: 2.0 commission_currency: USD realisedpnl: 1.7976931348623157e+308"
      ]
     },
     "execution_count": 14,
     "metadata": {},
     "output_type": "execute_result"
    }
   ],
   "source": [
    "exec_str['0000e215.5c3bd9ae.01.01']"
   ]
  },
  {
   "cell_type": "code",
   "execution_count": 12,
   "metadata": {},
   "outputs": [
    {
     "data": {
      "text/plain": [
       "['Execution - contract: 12087792,EUR,CASH,,0.0,,,IDEALPRO,,USD,EUR.USD,EUR.USD,False,,combo: ClientId: 1 OrderId: 59 time: 20190114  13:11:30 AvgPrice: 1.14696 Price: 1.14696 AcctNumber: DU486001 Shares: 82576.0 Commission: 2.0 commission_currency: USD realisedpnl: 1.7976931348623157e+308',\n",
       " 'Execution - contract: 12087792,EUR,CASH,,0.0,,,IDEALPRO,,USD,EUR.USD,EUR.USD,False,,combo: ClientId: 1 OrderId: 60 time: 20190114  13:11:42 AvgPrice: 1.14696 Price: 1.14696 AcctNumber: DU486001 Shares: 82406.0 Commission: 2.0 commission_currency: USD realisedpnl: 1.7976931348623157e+308',\n",
       " 'Execution - contract: 12087792,EUR,CASH,,0.0,,,IDEALPRO,,USD,EUR.USD,EUR.USD,False,,combo: ClientId: 1 OrderId: 61 time: 20190114  13:28:14 AvgPrice: 1.14619 Price: 1.14619 AcctNumber: DU486001 Shares: 81070.0 Commission: 2.0 commission_currency: USD realisedpnl: 1.7976931348623157e+308',\n",
       " 'Execution - contract: 12087792,EUR,CASH,,0.0,,,IDEALPRO,,USD,EUR.USD,EUR.USD,False,,combo: ClientId: 1 OrderId: 62 time: 20190114  13:29:14 AvgPrice: 1.14624 Price: 1.14624 AcctNumber: DU486001 Shares: 81070.0 Commission: 2.0 commission_currency: USD realisedpnl: 1.7976931348623157e+308',\n",
       " 'Execution - contract: 12087792,EUR,CASH,,0.0,,,IDEALPRO,,USD,EUR.USD,EUR.USD,False,,combo: ClientId: 1 OrderId: 63 time: 20190114  13:30:15 AvgPrice: 1.14619 Price: 1.14619 AcctNumber: DU486001 Shares: 81070.0 Commission: 2.0 commission_currency: USD realisedpnl: 1.7976931348623157e+308',\n",
       " 'Execution - contract: 12087792,EUR,CASH,,0.0,,,IDEALPRO,,USD,EUR.USD,EUR.USD,False,,combo: ClientId: 1 OrderId: 64 time: 20190114  13:31:16 AvgPrice: 1.14614 Price: 1.14614 AcctNumber: DU486001 Shares: 81070.0 Commission: 2.0 commission_currency: USD realisedpnl: 1.7976931348623157e+308',\n",
       " 'Execution - contract: 12087792,EUR,CASH,,0.0,,,IDEALPRO,,USD,EUR.USD,EUR.USD,False,,combo: ClientId: 1 OrderId: 65 time: 20190114  13:32:17 AvgPrice: 1.14631 Price: 1.14631 AcctNumber: DU486001 Shares: 81070.0 Commission: 2.0 commission_currency: USD realisedpnl: 1.7976931348623157e+308',\n",
       " 'Execution - contract: 12087792,EUR,CASH,,0.0,,,IDEALPRO,,USD,EUR.USD,EUR.USD,False,,combo: ClientId: 1 OrderId: 66 time: 20190114  13:33:18 AvgPrice: 1.14618 Price: 1.14618 AcctNumber: DU486001 Shares: 81070.0 Commission: 2.0 commission_currency: USD realisedpnl: 1.7976931348623157e+308',\n",
       " 'Execution - contract: 12087792,EUR,CASH,,0.0,,,IDEALPRO,,USD,EUR.USD,EUR.USD,False,,combo: ClientId: 1 OrderId: 67 time: 20190114  13:39:04 AvgPrice: 1.14603 Price: 1.14603 AcctNumber: DU486001 Shares: 81070.0 Commission: 2.0 commission_currency: USD realisedpnl: 1.7976931348623157e+308']"
      ]
     },
     "execution_count": 12,
     "metadata": {},
     "output_type": "execute_result"
    }
   ],
   "source": [
    "exec_list"
   ]
  },
  {
   "cell_type": "code",
   "execution_count": 4,
   "metadata": {},
   "outputs": [
    {
     "data": {
      "text/html": [
       "<div>\n",
       "<style scoped>\n",
       "    .dataframe tbody tr th:only-of-type {\n",
       "        vertical-align: middle;\n",
       "    }\n",
       "\n",
       "    .dataframe tbody tr th {\n",
       "        vertical-align: top;\n",
       "    }\n",
       "\n",
       "    .dataframe thead th {\n",
       "        text-align: right;\n",
       "    }\n",
       "</style>\n",
       "<table border=\"1\" class=\"dataframe\">\n",
       "  <thead>\n",
       "    <tr style=\"text-align: right;\">\n",
       "      <th></th>\n",
       "      <th>underlying</th>\n",
       "      <th>OrderId</th>\n",
       "      <th>AvgPrice</th>\n",
       "      <th>Shares</th>\n",
       "      <th>conId</th>\n",
       "      <th>ClientId</th>\n",
       "    </tr>\n",
       "    <tr>\n",
       "      <th>time</th>\n",
       "      <th></th>\n",
       "      <th></th>\n",
       "      <th></th>\n",
       "      <th></th>\n",
       "      <th></th>\n",
       "      <th></th>\n",
       "    </tr>\n",
       "  </thead>\n",
       "  <tbody>\n",
       "    <tr>\n",
       "      <th>20190114  13:30:15</th>\n",
       "      <td>EURUSD</td>\n",
       "      <td>63</td>\n",
       "      <td>1.14619</td>\n",
       "      <td>81070</td>\n",
       "      <td>12087792</td>\n",
       "      <td>1</td>\n",
       "    </tr>\n",
       "    <tr>\n",
       "      <th>20190114  13:31:16</th>\n",
       "      <td>EURUSD</td>\n",
       "      <td>64</td>\n",
       "      <td>1.14614</td>\n",
       "      <td>81070</td>\n",
       "      <td>12087792</td>\n",
       "      <td>1</td>\n",
       "    </tr>\n",
       "    <tr>\n",
       "      <th>20190114  13:32:17</th>\n",
       "      <td>EURUSD</td>\n",
       "      <td>65</td>\n",
       "      <td>1.14631</td>\n",
       "      <td>81070</td>\n",
       "      <td>12087792</td>\n",
       "      <td>1</td>\n",
       "    </tr>\n",
       "    <tr>\n",
       "      <th>20190114  13:33:18</th>\n",
       "      <td>EURUSD</td>\n",
       "      <td>66</td>\n",
       "      <td>1.14618</td>\n",
       "      <td>81070</td>\n",
       "      <td>12087792</td>\n",
       "      <td>1</td>\n",
       "    </tr>\n",
       "    <tr>\n",
       "      <th>20190114  13:39:04</th>\n",
       "      <td>EURUSD</td>\n",
       "      <td>67</td>\n",
       "      <td>1.14603</td>\n",
       "      <td>81070</td>\n",
       "      <td>12087792</td>\n",
       "      <td>1</td>\n",
       "    </tr>\n",
       "  </tbody>\n",
       "</table>\n",
       "</div>"
      ],
      "text/plain": [
       "                   underlying  OrderId  AvgPrice  Shares     conId  ClientId\n",
       "time                                                                        \n",
       "20190114  13:30:15     EURUSD       63   1.14619   81070  12087792         1\n",
       "20190114  13:31:16     EURUSD       64   1.14614   81070  12087792         1\n",
       "20190114  13:32:17     EURUSD       65   1.14631   81070  12087792         1\n",
       "20190114  13:33:18     EURUSD       66   1.14618   81070  12087792         1\n",
       "20190114  13:39:04     EURUSD       67   1.14603   81070  12087792         1"
      ]
     },
     "execution_count": 4,
     "metadata": {},
     "output_type": "execute_result"
    }
   ],
   "source": [
    "exec_df.tail()"
   ]
  },
  {
   "cell_type": "code",
   "execution_count": 5,
   "metadata": {},
   "outputs": [
    {
     "data": {
      "text/html": [
       "<div>\n",
       "<style scoped>\n",
       "    .dataframe tbody tr th:only-of-type {\n",
       "        vertical-align: middle;\n",
       "    }\n",
       "\n",
       "    .dataframe tbody tr th {\n",
       "        vertical-align: top;\n",
       "    }\n",
       "\n",
       "    .dataframe thead th {\n",
       "        text-align: right;\n",
       "    }\n",
       "</style>\n",
       "<table border=\"1\" class=\"dataframe\">\n",
       "  <thead>\n",
       "    <tr style=\"text-align: right;\">\n",
       "      <th></th>\n",
       "      <th>status</th>\n",
       "      <th>underlying</th>\n",
       "      <th>direction</th>\n",
       "      <th>order type</th>\n",
       "      <th>quantity</th>\n",
       "      <th>price</th>\n",
       "      <th>filled</th>\n",
       "      <th>avg fill px</th>\n",
       "      <th>conId</th>\n",
       "      <th>ClientId</th>\n",
       "    </tr>\n",
       "  </thead>\n",
       "  <tbody>\n",
       "  </tbody>\n",
       "</table>\n",
       "</div>"
      ],
      "text/plain": [
       "Empty DataFrame\n",
       "Columns: [status, underlying, direction, order type, quantity, price, filled, avg fill px, conId, ClientId]\n",
       "Index: []"
      ]
     },
     "execution_count": 5,
     "metadata": {},
     "output_type": "execute_result"
    }
   ],
   "source": [
    "orders_df.tail()"
   ]
  },
  {
   "cell_type": "code",
   "execution_count": 18,
   "metadata": {},
   "outputs": [
    {
     "name": "stdout",
     "output_type": "stream",
     "text": [
      "IB error id -1 errorcode 2106 string HMDS data farm connection is OK:njhmds.nj\n",
      "IB error id -1 errorcode 2107 string HMDS data farm connection is inactive but should be available upon demand.njhmds\n",
      "IB error id -1 errorcode 2106 string HMDS data farm connection is OK:cashhmds\n",
      "IB error id 59 errorcode 161 string Cancel attempted when order is not in a cancellable state.  Order permId =821852069\n",
      "IB error id 58 errorcode 202 string Order Canceled - reason:\n"
     ]
    }
   ],
   "source": [
    "app = fn.reconnect()['app']\n",
    "app.cancel_all_orders()\n",
    "app.disconnect()"
   ]
  },
  {
   "cell_type": "markdown",
   "metadata": {},
   "source": [
    "#### Historical Market Data"
   ]
  },
  {
   "cell_type": "code",
   "execution_count": null,
   "metadata": {},
   "outputs": [],
   "source": [
    "app = fn.reconnect()\n",
    "ibcontract, minTick = fn.make_contract(app, underlying)\n",
    "hist_mkt_data = app.get_IB_historical_data(ibcontract, durationStr='2 D', barSizeSetting='1 hour')\n",
    "app.disconnect()"
   ]
  },
  {
   "cell_type": "markdown",
   "metadata": {},
   "source": [
    "#### Account Positions"
   ]
  },
  {
   "cell_type": "code",
   "execution_count": null,
   "metadata": {},
   "outputs": [],
   "source": [
    "app = fn.reconnect()\n",
    "\n",
    "## lets get positions\n",
    "positions_list = app.get_current_positions()\n",
    "print(positions_list)\n",
    "\n",
    "## get the account name from the position\n",
    "## normally you would know your account name\n",
    "accountName = positions_list[0][0] #'DU486001'\n",
    "\n",
    "## and accounting information\n",
    "accounting_values = app.get_accounting_values(accountName)\n",
    "print(accounting_values)\n",
    "\n",
    "## these values are cached\n",
    "## if we ask again in more than 5 minutes it will update everything\n",
    "accounting_updates = app.get_accounting_updates(accountName)\n",
    "print(accounting_updates)\n",
    "\n",
    "app.disconnect()"
   ]
  },
  {
   "cell_type": "code",
   "execution_count": null,
   "metadata": {},
   "outputs": [],
   "source": []
  }
 ],
 "metadata": {
  "kernelspec": {
   "display_name": "Python 3",
   "language": "python",
   "name": "python3"
  },
  "language_info": {
   "codemirror_mode": {
    "name": "ipython",
    "version": 3
   },
   "file_extension": ".py",
   "mimetype": "text/x-python",
   "name": "python",
   "nbconvert_exporter": "python",
   "pygments_lexer": "ipython3",
   "version": "3.7.2"
  }
 },
 "nbformat": 4,
 "nbformat_minor": 2
}
