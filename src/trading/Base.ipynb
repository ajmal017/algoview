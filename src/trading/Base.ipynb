{
 "cells": [
  {
   "cell_type": "code",
   "execution_count": 1,
   "metadata": {},
   "outputs": [],
   "source": [
    "from importlib import reload as rel\n",
    "import numpy as np, pandas as pd, datetime as dt, time\n",
    "import queue, collections, trading.utils, trading.functions as fn\n",
    "import trading.LiveMktData as lmd, trading.OrderPlacement as op, trading.AccountPositions as ap"
   ]
  },
  {
   "cell_type": "markdown",
   "metadata": {},
   "source": [
    "#### Simulated inputs (from extension)"
   ]
  },
  {
   "cell_type": "code",
   "execution_count": 18,
   "metadata": {},
   "outputs": [],
   "source": [
    "underlying = 'EURUSD'\n",
    "msg = 'n=entryL1 d=short t=m p=0 q=1 u=1 c=10000 b=1h'"
   ]
  },
  {
   "cell_type": "code",
   "execution_count": 23,
   "metadata": {},
   "outputs": [
    {
     "name": "stdout",
     "output_type": "stream",
     "text": [
      "App already connected\n",
      "App already connected\n",
      "IB error id -1 errorcode 2104 string Market data farm connection is OK:eufarm\n",
      "IB error id -1 errorcode 2104 string Market data farm connection is OK:cashfarm\n",
      "IB error id -1 errorcode 2106 string HMDS data farm connection is OK:euhmds\n",
      "IB error id -1 errorcode 2106 string HMDS data farm connection is OK:njhmds\n",
      "IB error id -1 errorcode 2106 string HMDS data farm connection is OK:cashhmds\n",
      "IB error id -1 errorcode 2106 string HMDS data farm connection is OK:fundfarm\n",
      "IB error id -1 errorcode 2106 string HMDS data farm connection is OK:ushmds\n",
      "App already connected\n",
      "0,0,0: MKT SELL 55858@179769313486231570814527423731704356798070567525844996598917476803157260780028538760589558632766878171540458953514382464234321326889464182768467546703537516986049910576551282076245490090389328944075868508455133942304583236903222948165808559332123348274797826204144723168738177180919299881250404026184124858368.000000 \n",
      "Getting orderid from IB\n",
      "IB error id 50 errorcode 366 string No historical data query found for ticker id:50\n",
      "Using order id of 33\n"
     ]
    }
   ],
   "source": [
    "app = fn.reconnect()\n",
    "ibcontract, minTick = fn.make_contract(app, underlying)\n",
    "order1 = fn.make_order(app, ibcontract, minTick, msg)\n",
    "orderid1 = app.place_new_IB_order(ibcontract, order1, orderid=None)\n",
    "app.disconnect()"
   ]
  },
  {
   "cell_type": "code",
   "execution_count": 24,
   "metadata": {},
   "outputs": [
    {
     "name": "stdout",
     "output_type": "stream",
     "text": [
      "App already connected\n",
      "IB error id -1 errorcode 2104 string Market data farm connection is OK:eufarm\n",
      "IB error id -1 errorcode 2104 string Market data farm connection is OK:cashfarm\n",
      "IB error id -1 errorcode 2106 string HMDS data farm connection is OK:euhmds\n",
      "IB error id -1 errorcode 2106 string HMDS data farm connection is OK:njhmds\n",
      "IB error id -1 errorcode 2106 string HMDS data farm connection is OK:cashhmds\n",
      "IB error id -1 errorcode 2106 string HMDS data farm connection is OK:fundfarm\n",
      "IB error id -1 errorcode 2106 string HMDS data farm connection is OK:ushmds\n"
     ]
    }
   ],
   "source": [
    "app = fn.reconnect()\n",
    "positions_list = app.get_current_positions()\n",
    "accountName = positions_list[0][0]\n",
    "app.disconnect()"
   ]
  },
  {
   "cell_type": "code",
   "execution_count": 25,
   "metadata": {},
   "outputs": [
    {
     "name": "stdout",
     "output_type": "stream",
     "text": [
      "App already connected\n",
      "App already connected\n",
      "IB error id -1 errorcode 2104 string Market data farm connection is OK:eufarm\n",
      "IB error id -1 errorcode 2104 string Market data farm connection is OK:cashfarm\n",
      "IB error id -1 errorcode 2106 string HMDS data farm connection is OK:euhmds\n",
      "IB error id -1 errorcode 2106 string HMDS data farm connection is OK:njhmds\n",
      "IB error id -1 errorcode 2106 string HMDS data farm connection is OK:cashhmds\n",
      "IB error id -1 errorcode 2106 string HMDS data farm connection is OK:fundfarm\n",
      "IB error id -1 errorcode 2106 string HMDS data farm connection is OK:ushmds\n",
      "IB error id 43 errorcode 300 string Can't find EId with tickerId:43\n"
     ]
    }
   ],
   "source": [
    "app = fn.reconnect()\n",
    "bid, offer = fn.get_quotes(app, ibcontract)\n",
    "print(bid, offer)\n",
    "app.disconnect()"
   ]
  },
  {
   "cell_type": "markdown",
   "metadata": {},
   "source": [
    "#### Historical Market Data"
   ]
  },
  {
   "cell_type": "code",
   "execution_count": 27,
   "metadata": {},
   "outputs": [
    {
     "name": "stdout",
     "output_type": "stream",
     "text": [
      "App already connected\n",
      "App already connected\n",
      "IB error id -1 errorcode 2104 string Market data farm connection is OK:eufarm\n",
      "IB error id -1 errorcode 2104 string Market data farm connection is OK:cashfarm\n",
      "IB error id -1 errorcode 2106 string HMDS data farm connection is OK:euhmds\n",
      "IB error id -1 errorcode 2106 string HMDS data farm connection is OK:njhmds\n",
      "IB error id -1 errorcode 2106 string HMDS data farm connection is OK:cashhmds\n",
      "IB error id -1 errorcode 2106 string HMDS data farm connection is OK:fundfarm\n",
      "IB error id -1 errorcode 2106 string HMDS data farm connection is OK:ushmds\n"
     ]
    }
   ],
   "source": [
    "app = fn.reconnect()\n",
    "ibcontract, minTick = fn.make_contract(app, underlying)\n",
    "hist_mkt_data = app.get_IB_historical_data(ibcontract, durationStr='2 D', barSizeSetting='1 hour')\n",
    "app.disconnect()"
   ]
  },
  {
   "cell_type": "markdown",
   "metadata": {},
   "source": [
    "#### Account Positions"
   ]
  },
  {
   "cell_type": "code",
   "execution_count": null,
   "metadata": {},
   "outputs": [],
   "source": [
    "app = ap.TestApp(\"127.0.0.1\", 7497, 2)\n",
    "\n",
    "## lets get positions\n",
    "positions_list = app.get_current_positions()\n",
    "print(positions_list)\n",
    "\n",
    "## get the account name from the position\n",
    "## normally you would know your account name\n",
    "accountName = positions_list[0][0] #'DU486001'\n",
    "\n",
    "## and accounting information\n",
    "accounting_values = app.get_accounting_values(accountName)\n",
    "print(accounting_values)\n",
    "\n",
    "## these values are cached\n",
    "## if we ask again in more than 5 minutes it will update everything\n",
    "accounting_updates = app.get_accounting_updates(accountName)\n",
    "print(accounting_updates)\n",
    "\n",
    "app.disconnect()"
   ]
  },
  {
   "cell_type": "code",
   "execution_count": null,
   "metadata": {},
   "outputs": [],
   "source": []
  }
 ],
 "metadata": {
  "kernelspec": {
   "display_name": "Python 3",
   "language": "python",
   "name": "python3"
  },
  "language_info": {
   "codemirror_mode": {
    "name": "ipython",
    "version": 3
   },
   "file_extension": ".py",
   "mimetype": "text/x-python",
   "name": "python",
   "nbconvert_exporter": "python",
   "pygments_lexer": "ipython3",
   "version": "3.7.2"
  }
 },
 "nbformat": 4,
 "nbformat_minor": 2
}
