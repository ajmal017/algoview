{
 "cells": [
  {
   "cell_type": "code",
   "execution_count": 5,
   "metadata": {},
   "outputs": [],
   "source": [
    "from importlib import reload as rel\n",
    "import numpy as np, pandas as pd, datetime as dt, time\n",
    "import queue, collections, utils, functions as fn\n",
    "import OrderPlacement as op, AccountPositions as ap"
   ]
  },
  {
   "cell_type": "markdown",
   "metadata": {},
   "source": [
    "#### Simulated inputs (from extension)"
   ]
  },
  {
   "cell_type": "code",
   "execution_count": 138,
   "metadata": {},
   "outputs": [],
   "source": [
    "underlying = 'EURUSD'\n",
    "msg = 'n=entryL1 d=long t=l p=1 q=0 u=1 c=10000 b=1h'"
   ]
  },
  {
   "cell_type": "code",
   "execution_count": null,
   "metadata": {},
   "outputs": [],
   "source": [
    "app = fn.reconnect()\n",
    "ibcontract, minTick = fn.make_contract(app, underlying)\n",
    "order1 = fn.make_order(app, ibcontract, minTick, msg)\n",
    "orderid1 = app.place_new_IB_order(ibcontract, order1, orderid=None)\n",
    "app.disconnect()"
   ]
  },
  {
   "cell_type": "code",
   "execution_count": 136,
   "metadata": {},
   "outputs": [
    {
     "name": "stdout",
     "output_type": "stream",
     "text": [
      "IB error id -1 errorcode 2106 string HMDS data farm connection is OK:ushmds.us\n",
      "IB error id -1 errorcode 2107 string HMDS data farm connection is inactive but should be available upon demand.cashhmds\n",
      "IB error id -1 errorcode 2107 string HMDS data farm connection is inactive but should be available upon demand.ushmds\n"
     ]
    }
   ],
   "source": [
    "app = fn.reconnect()\n",
    "pos = fn.get_pos(app, ibcontract)\n",
    "app.disconnect()"
   ]
  },
  {
   "cell_type": "code",
   "execution_count": null,
   "metadata": {},
   "outputs": [],
   "source": [
    "app = fn.reconnect()\n",
    "pos = fn.get_quotes(app, ibcontract)\n",
    "app.disconnect()"
   ]
  },
  {
   "cell_type": "markdown",
   "metadata": {},
   "source": [
    "#### Historical Market Data"
   ]
  },
  {
   "cell_type": "code",
   "execution_count": 69,
   "metadata": {},
   "outputs": [
    {
     "name": "stdout",
     "output_type": "stream",
     "text": [
      "App already connected\n",
      "IB error id -1 errorcode 2106 string HMDS data farm connection is OK:ushmds.us\n"
     ]
    }
   ],
   "source": [
    "app = fn.reconnect()\n",
    "ibcontract, minTick = fn.make_contract(app, underlying)\n",
    "hist_mkt_data = app.get_IB_historical_data(ibcontract, durationStr='2 D', barSizeSetting='1 hour')\n",
    "app.disconnect()"
   ]
  },
  {
   "cell_type": "markdown",
   "metadata": {},
   "source": [
    "#### Live Market Data"
   ]
  },
  {
   "cell_type": "code",
   "execution_count": null,
   "metadata": {},
   "outputs": [],
   "source": [
    "ibcontract, minTick = app.make_contract(underlying)\n",
    "\n",
    "tickerid = app.start_getting_IB_market_data(ibcontract, whatToShow='BID')\n",
    "time.sleep(5)\n",
    "best_bid = app.stop_getting_IB_market_data(tickerid)\n",
    "best_bid_as_df = best_bid.as_pdDataFrame()\n",
    "print(best_bid)"
   ]
  },
  {
   "cell_type": "code",
   "execution_count": null,
   "metadata": {},
   "outputs": [],
   "source": [
    "market_data1_as_df = market_data1.as_pdDataFrame()\n",
    "print(market_data1_as_df)\n",
    "\n",
    "time.sleep(30)\n",
    "\n",
    "## stops the stream and returns all the data we've got so far\n",
    "market_data2 = app.stop_getting_IB_market_data(tickerid)\n",
    "\n",
    "## glue the data together\n",
    "market_data2_as_df = market_data2.as_pdDataFrame()\n",
    "all_market_data_as_df = pd.concat([market_data1_as_df, market_data2_as_df])\n",
    "\n",
    "## show some quotes\n",
    "some_quotes = all_market_data_as_df.resample(\"1S\").last()[[\"bid_size\", \"bid_price\", \"ask_price\", \"ask_size\"]]\n",
    "print(some_quotes.head(10))\n",
    "\n",
    "## show some trades\n",
    "some_trades = all_market_data_as_df.resample(\"10L\").last()[[\"last_trade_price\", \"last_trade_size\"]]\n",
    "print(some_trades.head(10))"
   ]
  },
  {
   "cell_type": "markdown",
   "metadata": {},
   "source": [
    "#### Order Placement"
   ]
  },
  {
   "cell_type": "code",
   "execution_count": 22,
   "metadata": {},
   "outputs": [
    {
     "name": "stdout",
     "output_type": "stream",
     "text": [
      "Getting full contract details from the server... \n",
      "IB error id -1 errorcode 2106 string HMDS data farm connection is OK:ushmds.us\n",
      "38590758,USO,STK,,0.0,,,ARCA,ARCA,USD,USO,USO,False,,combo:\n",
      "0,0,0: MKT BUY 1@179769313486231570814527423731704356798070567525844996598917476803157260780028538760589558632766878171540458953514382464234321326889464182768467546703537516986049910576551282076245490090389328944075868508455133942304583236903222948165808559332123348274797826204144723168738177180919299881250404026184124858368.000000 \n",
      "Getting orderid from IB\n",
      "Using order id of 6\n",
      "Placed market order, orderid is 6\n"
     ]
    }
   ],
   "source": [
    "ibcontract, order1 = app.parse_message(underlying, msg)\n",
    "orderid1 = app.place_new_IB_order(ibcontract, order1, orderid=None)\n",
    "print(\"Placed market order, orderid is %d\" % orderid1)"
   ]
  },
  {
   "cell_type": "markdown",
   "metadata": {},
   "source": [
    "#### Account Positions"
   ]
  },
  {
   "cell_type": "code",
   "execution_count": null,
   "metadata": {},
   "outputs": [],
   "source": [
    "app = ap.TestApp(\"127.0.0.1\", 7497, 2)\n",
    "\n",
    "## lets get positions\n",
    "positions_list = app.get_current_positions()\n",
    "print(positions_list)\n",
    "\n",
    "## get the account name from the position\n",
    "## normally you would know your account name\n",
    "accountName = positions_list[0][0] #'DU486001'\n",
    "\n",
    "## and accounting information\n",
    "accounting_values = app.get_accounting_values(accountName)\n",
    "print(accounting_values)\n",
    "\n",
    "## these values are cached\n",
    "## if we ask again in more than 5 minutes it will update everything\n",
    "accounting_updates = app.get_accounting_updates(accountName)\n",
    "print(accounting_updates)\n",
    "\n",
    "app.disconnect()"
   ]
  },
  {
   "cell_type": "code",
   "execution_count": null,
   "metadata": {},
   "outputs": [],
   "source": []
  }
 ],
 "metadata": {
  "kernelspec": {
   "display_name": "Python 3",
   "language": "python",
   "name": "python3"
  },
  "language_info": {
   "codemirror_mode": {
    "name": "ipython",
    "version": 3
   },
   "file_extension": ".py",
   "mimetype": "text/x-python",
   "name": "python",
   "nbconvert_exporter": "python",
   "pygments_lexer": "ipython3",
   "version": "3.7.2"
  }
 },
 "nbformat": 4,
 "nbformat_minor": 2
}
