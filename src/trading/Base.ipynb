{
 "cells": [
  {
   "cell_type": "code",
   "execution_count": 1,
   "metadata": {},
   "outputs": [],
   "source": [
    "from importlib import reload as rel\n",
    "import os, numpy as np, pandas as pd, datetime as dt, matplotlib.pyplot as plt, time\n",
    "cwd = os.getcwd()\n",
    "if cwd.find('src') != len(cwd)-3:\n",
    "    if cwd.find('algoview') == len(cwd)-8:\n",
    "        os.chdir(cwd + '/src')\n",
    "    elif len(cwd) > cwd.find('src')+3:\n",
    "        os.chdir(cwd[:cwd.find('src')+3])\n",
    "    else: print('Warning: cannot resolve path')\n",
    "import queue, collections, trading.utils as utils, trading.functions as fn, database as db\n",
    "import trading.LiveMktData as lmd, trading.OrderPlacement as op, trading.AccountPositions as ap"
   ]
  },
  {
   "cell_type": "markdown",
   "metadata": {},
   "source": [
    "#### Simulated inputs (from extension)"
   ]
  },
  {
   "cell_type": "code",
   "execution_count": 2,
   "metadata": {},
   "outputs": [],
   "source": [
    "underlying = 'USO'\n",
    "msg = 'n=entryL1 d=long t=m p=0 q=1 u=1 c=10000 b=1h'"
   ]
  },
  {
   "cell_type": "markdown",
   "metadata": {},
   "source": [
    "#### Format Backtest data from TV"
   ]
  },
  {
   "cell_type": "code",
   "execution_count": 3,
   "metadata": {},
   "outputs": [
    {
     "name": "stdout",
     "output_type": "stream",
     "text": [
      "IB error id -1 errorcode 2107 string HMDS data farm connection is inactive but should be available upon demand.ushmds.nj\n",
      "IB error id -1 errorcode 2107 string HMDS data farm connection is inactive but should be available upon demand.ushmds\n",
      "IB error id -1 errorcode 2106 string HMDS data farm connection is OK:ushmds.nj\n"
     ]
    }
   ],
   "source": [
    "TV_data = pd.read_excel(r'/Users/nicolas/Projects/algoview/Strategies.xlsm', sheet_name='For Python')\n",
    "order_params = utils.parse_message(msg)\n",
    "\n",
    "tot_len = TV_data['Date/Time'].max() - TV_data['Date/Time'].min()\n",
    "\n",
    "if tot_len.days > 280:\n",
    "    durationStr = str(int(tot_len.days/365) + 1) + ' Y'\n",
    "elif tot_len.days / 30 < 1:\n",
    "    durationStr = str(int(tot_len.days) + 1) + ' D'\n",
    "else:\n",
    "    durationStr = str(int(tot_len.days / 30 + 1)) + ' M'\n",
    "\n",
    "app = fn.reconnect()['app']\n",
    "contract_dets = fn.make_contract(app, underlying)\n",
    "hist_mkt_data = app.get_IB_historical_data(contract_dets['ibcontract'], durationStr, barSizeSetting=db.bar_to_str[order_params['b']])\n",
    "app.disconnect()\n",
    "\n",
    "price_data = pd.DataFrame(hist_mkt_data, columns=['Date', 'O', 'H', 'L', 'C', 'V'])\n",
    "price_data['Date'] = pd.to_datetime(price_data['Date'])\n",
    "price_data.set_index('Date', inplace=True)\n",
    "price_data['Price'] = price_data['O'] #round(( price_data['O'] + price_data['C'] ) / 2, 2)\n",
    "price_data.drop(labels=['O','H','L','C','V'], axis=1, inplace=True)\n",
    "\n",
    "df = utils.date_range(start=TV_data['Date/Time'].min(), end=TV_data['Date/Time'].max(), bar_size=order_params['b'])\n",
    "df.set_index('Date', inplace=True)"
   ]
  },
  {
   "cell_type": "code",
   "execution_count": 4,
   "metadata": {},
   "outputs": [],
   "source": [
    "nb_item = len(TV_data)\n",
    "contract_list = []\n",
    "for i, row in TV_data.iterrows():                    ## Correct the Contracts column\n",
    "    sign = 1\n",
    "    if row.Type == 'Entry Short' or row.Type == 'Exit Long':\n",
    "        sign = -1\n",
    "    if np.isnan(row.Contracts) and i<nb_item-1:\n",
    "        contract_list.append(sign * TV_data['Contracts'][i+1])\n",
    "    else:\n",
    "        contract_list.append(sign * row.Contracts)\n",
    "    \n",
    "new = pd.DataFrame({'Contracts': contract_list})\n",
    "TV_data['Contracts'] = new['Contracts']             ## Replace the Contracts column by the corrected one\n",
    "\n",
    "TV_data.drop(['Trade #','Type','Signal','Profit', 'Price'], axis=1, inplace=True)\n",
    "TV_data = TV_data.drop_duplicates(['Date/Time', 'Contracts']).groupby('Date/Time').agg(sum)  ## Aggregate contracts traded on each date (no duplicates)\n",
    "#  TV_data = TV_data.drop_duplicates(['Date/Time', 'Contracts']).groupby('Date/Time').agg(['min', 'sum'])  ## Aggregate contracts traded on each date (no duplicates)\n",
    "TV_data.index.names = ['Date']\n",
    "#  TV_data = pd.DataFrame({'Contracts': TV_data['Contracts']['sum'], 'Price': TV_data['Price']['min']}, index=TV_data.index)"
   ]
  },
  {
   "cell_type": "code",
   "execution_count": 5,
   "metadata": {},
   "outputs": [],
   "source": [
    "df2 = df.join(price_data).fillna(method='ffill')\n",
    "df3 = df2.join(TV_data).fillna(value=0)\n",
    "df3['Position'] = df3['Contracts'].cumsum().shift(1)  ## Inferring positions at each time from the Contracts column\n",
    "df4 = df3.drop('Contracts', axis=1).fillna(0)\n",
    "df4['PnL'] = df4['Position'] * ( df4['Price'] - df4['Price'].shift(1) )\n",
    "df4['Perf'] = df4['PnL'].cumsum()"
   ]
  },
  {
   "cell_type": "code",
   "execution_count": 20,
   "metadata": {},
   "outputs": [
    {
     "data": {
      "text/html": [
       "<div>\n",
       "<style scoped>\n",
       "    .dataframe tbody tr th:only-of-type {\n",
       "        vertical-align: middle;\n",
       "    }\n",
       "\n",
       "    .dataframe tbody tr th {\n",
       "        vertical-align: top;\n",
       "    }\n",
       "\n",
       "    .dataframe thead th {\n",
       "        text-align: right;\n",
       "    }\n",
       "</style>\n",
       "<table border=\"1\" class=\"dataframe\">\n",
       "  <thead>\n",
       "    <tr style=\"text-align: right;\">\n",
       "      <th></th>\n",
       "      <th>Price</th>\n",
       "      <th>Position</th>\n",
       "      <th>PnL</th>\n",
       "      <th>Perf</th>\n",
       "    </tr>\n",
       "    <tr>\n",
       "      <th>Date</th>\n",
       "      <th></th>\n",
       "      <th></th>\n",
       "      <th></th>\n",
       "      <th></th>\n",
       "    </tr>\n",
       "  </thead>\n",
       "  <tbody>\n",
       "    <tr>\n",
       "      <th>2018-01-28 15:30:00</th>\n",
       "      <td>13.25</td>\n",
       "      <td>7466.0</td>\n",
       "      <td>0.0</td>\n",
       "      <td>5447.97</td>\n",
       "    </tr>\n",
       "    <tr>\n",
       "      <th>2018-01-28 16:30:00</th>\n",
       "      <td>13.25</td>\n",
       "      <td>7466.0</td>\n",
       "      <td>0.0</td>\n",
       "      <td>5447.97</td>\n",
       "    </tr>\n",
       "    <tr>\n",
       "      <th>2018-01-28 17:30:00</th>\n",
       "      <td>13.25</td>\n",
       "      <td>7466.0</td>\n",
       "      <td>0.0</td>\n",
       "      <td>5447.97</td>\n",
       "    </tr>\n",
       "    <tr>\n",
       "      <th>2018-01-28 18:30:00</th>\n",
       "      <td>13.25</td>\n",
       "      <td>7466.0</td>\n",
       "      <td>0.0</td>\n",
       "      <td>5447.97</td>\n",
       "    </tr>\n",
       "    <tr>\n",
       "      <th>2018-01-28 19:30:00</th>\n",
       "      <td>13.25</td>\n",
       "      <td>7466.0</td>\n",
       "      <td>0.0</td>\n",
       "      <td>5447.97</td>\n",
       "    </tr>\n",
       "  </tbody>\n",
       "</table>\n",
       "</div>"
      ],
      "text/plain": [
       "                     Price  Position  PnL     Perf\n",
       "Date                                              \n",
       "2018-01-28 15:30:00  13.25    7466.0  0.0  5447.97\n",
       "2018-01-28 16:30:00  13.25    7466.0  0.0  5447.97\n",
       "2018-01-28 17:30:00  13.25    7466.0  0.0  5447.97\n",
       "2018-01-28 18:30:00  13.25    7466.0  0.0  5447.97\n",
       "2018-01-28 19:30:00  13.25    7466.0  0.0  5447.97"
      ]
     },
     "execution_count": 20,
     "metadata": {},
     "output_type": "execute_result"
    }
   ],
   "source": [
    "df4[600:].head()"
   ]
  },
  {
   "cell_type": "code",
   "execution_count": 10,
   "metadata": {},
   "outputs": [
    {
     "data": {
      "text/plain": [
       "[<matplotlib.lines.Line2D at 0x11b0e6f28>]"
      ]
     },
     "execution_count": 10,
     "metadata": {},
     "output_type": "execute_result"
    },
    {
     "data": {
      "image/png": "[encoded data removed]",
      "text/plain": [
       "<Figure size 432x288 with 1 Axes>"
      ]
     },
     "metadata": {
      "needs_background": "light"
     },
     "output_type": "display_data"
    }
   ],
   "source": [
    "plt.plot(df4['Perf'])"
   ]
  },
  {
   "cell_type": "code",
   "execution_count": 7,
   "metadata": {},
   "outputs": [],
   "source": [
    "## OLD\n",
    "\n",
    "df2 = df.join(TV_data)\n",
    "df2.fillna(value=0, inplace=True)\n",
    "df2['Position'] = df2['Contracts'].cumsum().shift(1)\n",
    "df2.drop('Contracts', axis=1, inplace=True)\n",
    "df3 = df2.join(price_data)\n",
    "df3['PnL'] = df3['Position'] * ( df3['Price'] - df3['Price'].shift(1) )\n",
    "df3['Perf'] = df3['PnL'].cumsum()"
   ]
  },
  {
   "cell_type": "markdown",
   "metadata": {},
   "source": [
    "#### Main.py"
   ]
  },
  {
   "cell_type": "code",
   "execution_count": 3,
   "metadata": {},
   "outputs": [
    {
     "name": "stdout",
     "output_type": "stream",
     "text": [
      "IB error id -1 errorcode 2107 string HMDS data farm connection is inactive but should be available upon demand.njhmds.nj\n",
      "IB error id -1 errorcode 2107 string HMDS data farm connection is inactive but should be available upon demand.njhmds\n",
      "IB error id -1 errorcode 2106 string HMDS data farm connection is OK:cashhmds\n",
      "IB error id 50 errorcode 366 string No historical data query found for ticker id:50\n"
     ]
    }
   ],
   "source": [
    "start_time = time.time()\n",
    "\n",
    "error = None\n",
    "info = None\n",
    "fill_status = False\n",
    "avg_price = 0\n",
    "orderid1 = None\n",
    "\n",
    "try:\n",
    "    app = fn.reconnect()['app']\n",
    "    contract_dets = fn.make_contract(app, underlying)\n",
    "    order1 = fn.make_order(app, contract_dets, msg)\n",
    "\n",
    "    if order1.totalQuantity != 0:\n",
    "        orderid1 = app.place_new_IB_order(\n",
    "            contract_dets['ibcontract'], order1, orderid=None)\n",
    "        fill_dets = fn.check_fill(app, order1, orderid1)\n",
    "        fill_status = fill_dets['fill_status']\n",
    "        avg_price = fill_dets['price']\n",
    "    else:\n",
    "        info = \"Nothing to trade\"\n",
    "    \n",
    "    exec_df = fn.get_execDetails(app)\n",
    "    orders_df = fn.get_openOrders(app)\n",
    "    \n",
    "    app.disconnect()\n",
    "except Exception as Exc:\n",
    "    app.disconnect()\n",
    "    error = Exc\n",
    "\n",
    "end_time = time.time()"
   ]
  },
  {
   "cell_type": "code",
   "execution_count": 4,
   "metadata": {},
   "outputs": [
    {
     "data": {
      "text/html": [
       "<div>\n",
       "<style scoped>\n",
       "    .dataframe tbody tr th:only-of-type {\n",
       "        vertical-align: middle;\n",
       "    }\n",
       "\n",
       "    .dataframe tbody tr th {\n",
       "        vertical-align: top;\n",
       "    }\n",
       "\n",
       "    .dataframe thead th {\n",
       "        text-align: right;\n",
       "    }\n",
       "</style>\n",
       "<table border=\"1\" class=\"dataframe\">\n",
       "  <thead>\n",
       "    <tr style=\"text-align: right;\">\n",
       "      <th></th>\n",
       "      <th>underlying</th>\n",
       "      <th>OrderId</th>\n",
       "      <th>AvgPrice</th>\n",
       "      <th>Shares</th>\n",
       "      <th>conId</th>\n",
       "      <th>ClientId</th>\n",
       "    </tr>\n",
       "    <tr>\n",
       "      <th>time</th>\n",
       "      <th></th>\n",
       "      <th></th>\n",
       "      <th></th>\n",
       "      <th></th>\n",
       "      <th></th>\n",
       "      <th></th>\n",
       "    </tr>\n",
       "  </thead>\n",
       "  <tbody>\n",
       "    <tr>\n",
       "      <th>20190114  13:30:15</th>\n",
       "      <td>EURUSD</td>\n",
       "      <td>63</td>\n",
       "      <td>1.14619</td>\n",
       "      <td>81070</td>\n",
       "      <td>12087792</td>\n",
       "      <td>1</td>\n",
       "    </tr>\n",
       "    <tr>\n",
       "      <th>20190114  13:31:16</th>\n",
       "      <td>EURUSD</td>\n",
       "      <td>64</td>\n",
       "      <td>1.14614</td>\n",
       "      <td>81070</td>\n",
       "      <td>12087792</td>\n",
       "      <td>1</td>\n",
       "    </tr>\n",
       "    <tr>\n",
       "      <th>20190114  13:32:17</th>\n",
       "      <td>EURUSD</td>\n",
       "      <td>65</td>\n",
       "      <td>1.14631</td>\n",
       "      <td>81070</td>\n",
       "      <td>12087792</td>\n",
       "      <td>1</td>\n",
       "    </tr>\n",
       "    <tr>\n",
       "      <th>20190114  13:33:18</th>\n",
       "      <td>EURUSD</td>\n",
       "      <td>66</td>\n",
       "      <td>1.14618</td>\n",
       "      <td>81070</td>\n",
       "      <td>12087792</td>\n",
       "      <td>1</td>\n",
       "    </tr>\n",
       "    <tr>\n",
       "      <th>20190114  13:39:04</th>\n",
       "      <td>EURUSD</td>\n",
       "      <td>67</td>\n",
       "      <td>1.14603</td>\n",
       "      <td>81070</td>\n",
       "      <td>12087792</td>\n",
       "      <td>1</td>\n",
       "    </tr>\n",
       "  </tbody>\n",
       "</table>\n",
       "</div>"
      ],
      "text/plain": [
       "                   underlying  OrderId  AvgPrice  Shares     conId  ClientId\n",
       "time                                                                        \n",
       "20190114  13:30:15     EURUSD       63   1.14619   81070  12087792         1\n",
       "20190114  13:31:16     EURUSD       64   1.14614   81070  12087792         1\n",
       "20190114  13:32:17     EURUSD       65   1.14631   81070  12087792         1\n",
       "20190114  13:33:18     EURUSD       66   1.14618   81070  12087792         1\n",
       "20190114  13:39:04     EURUSD       67   1.14603   81070  12087792         1"
      ]
     },
     "execution_count": 4,
     "metadata": {},
     "output_type": "execute_result"
    }
   ],
   "source": [
    "exec_df.tail()"
   ]
  },
  {
   "cell_type": "code",
   "execution_count": 5,
   "metadata": {},
   "outputs": [
    {
     "data": {
      "text/html": [
       "<div>\n",
       "<style scoped>\n",
       "    .dataframe tbody tr th:only-of-type {\n",
       "        vertical-align: middle;\n",
       "    }\n",
       "\n",
       "    .dataframe tbody tr th {\n",
       "        vertical-align: top;\n",
       "    }\n",
       "\n",
       "    .dataframe thead th {\n",
       "        text-align: right;\n",
       "    }\n",
       "</style>\n",
       "<table border=\"1\" class=\"dataframe\">\n",
       "  <thead>\n",
       "    <tr style=\"text-align: right;\">\n",
       "      <th></th>\n",
       "      <th>status</th>\n",
       "      <th>underlying</th>\n",
       "      <th>direction</th>\n",
       "      <th>order type</th>\n",
       "      <th>quantity</th>\n",
       "      <th>price</th>\n",
       "      <th>filled</th>\n",
       "      <th>avg fill px</th>\n",
       "      <th>conId</th>\n",
       "      <th>ClientId</th>\n",
       "    </tr>\n",
       "  </thead>\n",
       "  <tbody>\n",
       "  </tbody>\n",
       "</table>\n",
       "</div>"
      ],
      "text/plain": [
       "Empty DataFrame\n",
       "Columns: [status, underlying, direction, order type, quantity, price, filled, avg fill px, conId, ClientId]\n",
       "Index: []"
      ]
     },
     "execution_count": 5,
     "metadata": {},
     "output_type": "execute_result"
    }
   ],
   "source": [
    "orders_df.tail()"
   ]
  },
  {
   "cell_type": "code",
   "execution_count": 18,
   "metadata": {},
   "outputs": [
    {
     "name": "stdout",
     "output_type": "stream",
     "text": [
      "IB error id -1 errorcode 2106 string HMDS data farm connection is OK:njhmds.nj\n",
      "IB error id -1 errorcode 2107 string HMDS data farm connection is inactive but should be available upon demand.njhmds\n",
      "IB error id -1 errorcode 2106 string HMDS data farm connection is OK:cashhmds\n",
      "IB error id 59 errorcode 161 string Cancel attempted when order is not in a cancellable state.  Order permId =821852069\n",
      "IB error id 58 errorcode 202 string Order Canceled - reason:\n"
     ]
    }
   ],
   "source": [
    "app = fn.reconnect()['app']\n",
    "app.cancel_all_orders()\n",
    "app.disconnect()"
   ]
  },
  {
   "cell_type": "markdown",
   "metadata": {},
   "source": [
    "#### Historical Market Data"
   ]
  },
  {
   "cell_type": "code",
   "execution_count": null,
   "metadata": {},
   "outputs": [],
   "source": [
    "app = fn.reconnect()['app']\n",
    "contract_dets = fn.make_contract(app, underlying)\n",
    "hist_mkt_data = app.get_IB_historical_data(contract_dets['ibcontract'], durationStr='2 D', barSizeSetting='1 hour')\n",
    "app.disconnect()"
   ]
  },
  {
   "cell_type": "markdown",
   "metadata": {},
   "source": [
    "#### Account Positions"
   ]
  },
  {
   "cell_type": "code",
   "execution_count": null,
   "metadata": {},
   "outputs": [],
   "source": [
    "app = fn.reconnect()['app']\n",
    "\n",
    "## lets get positions\n",
    "positions_list = app.get_current_positions()\n",
    "print(positions_list)\n",
    "\n",
    "## get the account name from the position\n",
    "## normally you would know your account name\n",
    "accountName = positions_list[0][0] #'DU486001'\n",
    "\n",
    "## and accounting information\n",
    "accounting_values = app.get_accounting_values(accountName)\n",
    "print(accounting_values)\n",
    "\n",
    "## these values are cached\n",
    "## if we ask again in more than 5 minutes it will update everything\n",
    "accounting_updates = app.get_accounting_updates(accountName)\n",
    "print(accounting_updates)\n",
    "\n",
    "app.disconnect()"
   ]
  },
  {
   "cell_type": "code",
   "execution_count": null,
   "metadata": {},
   "outputs": [],
   "source": []
  }
 ],
 "metadata": {
  "kernelspec": {
   "display_name": "Python 3",
   "language": "python",
   "name": "python3"
  },
  "language_info": {
   "codemirror_mode": {
    "name": "ipython",
    "version": 3
   },
   "file_extension": ".py",
   "mimetype": "text/x-python",
   "name": "python",
   "nbconvert_exporter": "python",
   "pygments_lexer": "ipython3",
   "version": "3.7.2"
  }
 },
 "nbformat": 4,
 "nbformat_minor": 2
}
